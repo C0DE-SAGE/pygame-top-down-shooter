{
 "cells": [
  {
   "cell_type": "code",
   "execution_count": 1,
   "metadata": {},
   "outputs": [
    {
     "name": "stdout",
     "output_type": "stream",
     "text": [
      "pygame 2.1.2 (SDL 2.0.18, Python 3.8.8)\n",
      "Hello from the pygame community. https://www.pygame.org/contribute.html\n"
     ]
    },
    {
     "ename": "SystemExit",
     "evalue": "",
     "output_type": "error",
     "traceback": [
      "An exception has occurred, use %tb to see the full traceback.\n",
      "\u001b[1;31mSystemExit\u001b[0m\n"
     ]
    },
    {
     "name": "stderr",
     "output_type": "stream",
     "text": [
      "c:\\Users\\kland\\anaconda3\\lib\\site-packages\\IPython\\core\\interactiveshell.py:3445: UserWarning: To exit: use 'exit', 'quit', or Ctrl-D.\n",
      "  warn(\"To exit: use 'exit', 'quit', or Ctrl-D.\", stacklevel=1)\n"
     ]
    },
    {
     "ename": "",
     "evalue": "",
     "output_type": "error",
     "traceback": [
      "현재 셀 또는 이전 셀에서 코드를 실행하는 동안 Kernel이 충돌했습니다. 셀의 코드를 검토하여 오류의 가능한 원인을 식별하세요. 자세한 내용을 보려면 <a href='https://aka.ms/vscodeJupyterKernelCrash'> 여기 </a> 를 클릭하세요. 자세한 내용은 Jupyter <a href='command:jupyter.viewOutput'>로그</a>를 참조하세요."
     ]
    }
   ],
   "source": [
    "from dis import dis\n",
    "from turtle import speed\n",
    "import pygame\n",
    "import sys\n",
    "import math\n",
    "\n",
    "pygame.init()\n",
    "\n",
    "display = pygame.display.set_mode((800,600))\n",
    "clock = pygame.time.Clock()\n",
    "\n",
    "class Player:\n",
    "    '''\n",
    "    player setting\n",
    "    '''\n",
    "    def __init__(self, x, y, width, height, health):\n",
    "        self.x = x\n",
    "        self.y = y\n",
    "        self.width = width\n",
    "        self.height = height\n",
    "        self.health = health\n",
    "    def main(self, display):\n",
    "        pygame.draw.rect(display, (255,0,0), (self.x, self.y, self.width, self.height))\n",
    "\n",
    "\n",
    "\n",
    "class Enemy:\n",
    "    '''\n",
    "    Enemy setting\n",
    "    '''\n",
    "    def __init__(self, x, y, width, height, health):\n",
    "        self.x = x\n",
    "        self.y = y\n",
    "        self.speed = 2\n",
    "        self.width = width\n",
    "        self.height = height\n",
    "        self.health = health\n",
    "    def main(self, display, player):\n",
    "        pygame.draw.rect(display, (0,0,255), (display_scroll[0], display_scroll[1], self.width, self.height))\n",
    "\n",
    "\n",
    "\n",
    "class PlayerBullet:\n",
    "    '''\n",
    "    Player bullet(attack)\n",
    "    '''\n",
    "    def __init__(self, x, y, mouse_x, mouse_y):\n",
    "        self.x = x\n",
    "        self.y = y\n",
    "        self.mouse_x = mouse_x\n",
    "        self.mouse_y = mouse_y\n",
    "        self.speed = 15\n",
    "        self.angle = math.atan2(y-mouse_y, x-mouse_x)\n",
    "        self.x_vel = self.speed * math.cos(self.angle)\n",
    "        self.y_vel = self.speed * math.sin(self.angle)\n",
    "    def main(self, display):\n",
    "        self.x -= int(self.x_vel)\n",
    "        self.y -= int(self.y_vel)\n",
    "\n",
    "        pygame.draw.circle(display, (0,0,0), (self.x, self.y), 5)\n",
    "\n",
    "player = Player(400,300,32,32,120)      #x,y,width, height, health\n",
    "\n",
    "enemy = Enemy(400,30,32,32,10)\n",
    "\n",
    "display_scroll = [0,0]\n",
    "\n",
    "player_bullets = []\n",
    "\n",
    "while True: \n",
    "    display.fill((24,186,32))\n",
    "    \n",
    "    pygame.draw.rect(display, (255,0,0),(10,10, 250,5))\n",
    "    pygame.draw.rect(display, (0,255,0),(10,10, player.health,5))\n",
    "\n",
    "    mouse_x, mouse_y = pygame.mouse.get_pos()\n",
    "\n",
    "    for event in pygame.event.get():\n",
    "        if event.type == pygame.QUIT:\n",
    "            sys.exit()\n",
    "            pygame.QUIT\n",
    "        \n",
    "        if event.type == pygame.MOUSEBUTTONDOWN:\n",
    "            if event.button == 1:\n",
    "                player_bullets.append(PlayerBullet((player.x*2+player.width)/2, (player.y*2+player.height)/2, mouse_x, mouse_y))\n",
    "\n",
    "    keys = pygame.key.get_pressed()\n",
    "\n",
    "    pygame.draw.rect(display, (255,255,255),(100-display_scroll[0],100-display_scroll[1],16,16))\n",
    "\n",
    "    if keys[pygame.K_a]:\n",
    "        display_scroll[0] -= 5\n",
    "\n",
    "        for bullet in player_bullets:\n",
    "            bullet.x += 5\n",
    "    if keys[pygame.K_d]:\n",
    "        display_scroll[0] += 5\n",
    "\n",
    "        for bullet in player_bullets:\n",
    "            bullet.x -= 5\n",
    "    if keys[pygame.K_w]:\n",
    "        display_scroll[1] -= 5\n",
    "\n",
    "        for bullet in player_bullets:\n",
    "            bullet.y += 5\n",
    "    if keys[pygame.K_s]:\n",
    "        display_scroll[1] += 5\n",
    "\n",
    "        for bullet in player_bullets:\n",
    "            bullet.y -= 5\n",
    "\n",
    "    player.main(display)\n",
    "    enemy.main(display,player)\n",
    "\n",
    "    for bullet in player_bullets:\n",
    "        bullet.main(display)\n",
    "\n",
    "    clock.tick(60)\n",
    "    pygame.display.update()"
   ]
  },
  {
   "cell_type": "code",
   "execution_count": null,
   "metadata": {},
   "outputs": [
    {
     "name": "stdout",
     "output_type": "stream",
     "text": [
      "2.38648825011112 -10.922999890392045 10.280470485074863 <class 'float'> <class 'float'>\n"
     ]
    },
    {
     "ename": "",
     "evalue": "",
     "output_type": "error",
     "traceback": [
      "\u001b[1;31m현재 셀 또는 이전 셀에서 코드를 실행하는 동안 Kernel이 충돌했습니다. 셀의 코드를 검토하여 오류의 가능한 원인을 식별하세요. 자세한 내용을 보려면 <a href='https://aka.ms/vscodeJupyterKernelCrash'> 여기 </a> 를 클릭하세요. 자세한 내용은 Jupyter <a href='command:jupyter.viewOutput'>로그</a>를 참조하세요."
     ]
    }
   ],
   "source": [
    "x = 400 \n",
    "y = 300 \n",
    "mouse_x = 434\n",
    "mouse_y = 268\n",
    "speed = 15\n",
    "angle = math.atan2(y-mouse_y, x-mouse_x)\n",
    "x_vel =  math.cos(angle) * speed\n",
    "y_vel = speed * math.sin(angle)\n",
    "print(angle, x_vel,y_vel, type(angle), type(x_vel))"
   ]
  },
  {
   "cell_type": "code",
   "execution_count": null,
   "metadata": {},
   "outputs": [],
   "source": []
  }
 ],
 "metadata": {
  "kernelspec": {
   "display_name": "Python 3.8.8 ('base')",
   "language": "python",
   "name": "python3"
  },
  "language_info": {
   "codemirror_mode": {
    "name": "ipython",
    "version": 3
   },
   "file_extension": ".py",
   "mimetype": "text/x-python",
   "name": "python",
   "nbconvert_exporter": "python",
   "pygments_lexer": "ipython3",
   "version": "3.8.8"
  },
  "orig_nbformat": 4,
  "vscode": {
   "interpreter": {
    "hash": "a2a5a0a5d041033f7b11215fca954339c00d7fcd212a031ead3875a370dc4e6d"
   }
  }
 },
 "nbformat": 4,
 "nbformat_minor": 2
}
