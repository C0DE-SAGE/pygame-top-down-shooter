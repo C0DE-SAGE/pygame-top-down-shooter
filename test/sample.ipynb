{
 "cells": [
  {
   "cell_type": "code",
   "execution_count": 1,
   "metadata": {},
   "outputs": [
    {
     "name": "stdout",
     "output_type": "stream",
     "text": [
      "pygame 2.1.2 (SDL 2.0.18, Python 3.8.8)\n",
      "Hello from the pygame community. https://www.pygame.org/contribute.html\n"
     ]
    },
    {
     "ename": "SystemExit",
     "evalue": "",
     "output_type": "error",
     "traceback": [
      "An exception has occurred, use %tb to see the full traceback.\n",
      "\u001b[1;31mSystemExit\u001b[0m\n"
     ]
    },
    {
     "name": "stderr",
     "output_type": "stream",
     "text": [
      "c:\\Users\\kland\\anaconda3\\lib\\site-packages\\IPython\\core\\interactiveshell.py:3445: UserWarning: To exit: use 'exit', 'quit', or Ctrl-D.\n",
      "  warn(\"To exit: use 'exit', 'quit', or Ctrl-D.\", stacklevel=1)\n"
     ]
    },
    {
     "ename": "",
     "evalue": "",
     "output_type": "error",
     "traceback": [
      "현재 셀 또는 이전 셀에서 코드를 실행하는 동안 Kernel이 충돌했습니다. 셀의 코드를 검토하여 오류의 가능한 원인을 식별하세요. 자세한 내용을 보려면 <a href='https://aka.ms/vscodeJupyterKernelCrash'> 여기 </a> 를 클릭하세요. 자세한 내용은 Jupyter <a href='command:jupyter.viewOutput'>로그</a>를 참조하세요."
     ]
    }
   ],
   "source": [
    "from dis import dis\n",
    "from turtle import speed\n",
    "import pygame\n",
    "import sys\n",
    "import math\n",
    "\n",
    "pygame.init()\n",
    "\n",
    "display = pygame.display.set_mode((800,600))\n",
    "clock = pygame.time.Clock()\n",
    "\n",
    "class Player:\n",
    "    '''\n",
    "    player setting\n",
    "    '''\n",
    "    def __init__(self, x, y, width, height, health):\n",
    "        self.x = x\n",
    "        self.y = y\n",
    "        self.width = width\n",
    "        self.height = height\n",
    "        self.health = health\n",
    "    def main(self, display):\n",
    "        pygame.draw.rect(display, (255,0,0), (self.x, self.y, self.width, self.height))\n",
    "\n",
    "\n",
    "\n",
    "class Enemy:\n",
    "    '''\n",
    "    Enemy setting\n",
    "    '''\n",
    "    def __init__(self, x, y, width, height, health):\n",
    "        self.x = x\n",
    "        self.y = y\n",
    "        self.speed = 2\n",
    "        self.width = width\n",
    "        self.height = height\n",
    "        self.health = health\n",
    "    def main(self, display, player):\n",
    "        pygame.draw.rect(display, (0,0,255), (display_scroll[0], display_scroll[1], self.width, self.height))\n",
    "\n",
    "\n",
    "\n",
    "class PlayerBullet:\n",
    "    '''\n",
    "    Player bullet(attack)\n",
    "    '''\n",
    "    def __init__(self, x, y, mouse_x, mouse_y):\n",
    "        self.x = x\n",
    "        self.y = y\n",
    "        self.mouse_x = mouse_x\n",
    "        self.mouse_y = mouse_y\n",
    "        self.speed = 15\n",
    "        self.angle = math.atan2(y-mouse_y, x-mouse_x)\n",
    "        self.x_vel = self.speed * math.cos(self.angle)\n",
    "        self.y_vel = self.speed * math.sin(self.angle)\n",
    "    def main(self, display):\n",
    "        self.x -= int(self.x_vel)\n",
    "        self.y -= int(self.y_vel)\n",
    "\n",
    "        pygame.draw.circle(display, (0,0,0), (self.x, self.y), 5)\n",
    "\n",
    "player = Player(400,300,32,32,120)      #x,y,width, height, health\n",
    "\n",
    "enemy = Enemy(400,30,32,32,10)\n",
    "\n",
    "display_scroll = [0,0]\n",
    "\n",
    "player_bullets = []\n",
    "\n",
    "while True: \n",
    "    display.fill((24,186,32))\n",
    "    \n",
    "    pygame.draw.rect(display, (255,0,0),(10,10, 250,5))\n",
    "    pygame.draw.rect(display, (0,255,0),(10,10, player.health,5))\n",
    "\n",
    "    mouse_x, mouse_y = pygame.mouse.get_pos()\n",
    "\n",
    "    for event in pygame.event.get():\n",
    "        if event.type == pygame.QUIT:\n",
    "            sys.exit()\n",
    "            pygame.QUIT\n",
    "        \n",
    "        if event.type == pygame.MOUSEBUTTONDOWN:\n",
    "            if event.button == 1:\n",
    "                player_bullets.append(PlayerBullet((player.x*2+player.width)/2, (player.y*2+player.height)/2, mouse_x, mouse_y))\n",
    "\n",
    "    keys = pygame.key.get_pressed()\n",
    "\n",
    "    pygame.draw.rect(display, (255,255,255),(100-display_scroll[0],100-display_scroll[1],16,16))\n",
    "\n",
    "    if keys[pygame.K_a]:\n",
    "        display_scroll[0] -= 5\n",
    "\n",
    "        for bullet in player_bullets:\n",
    "            bullet.x += 5\n",
    "    if keys[pygame.K_d]:\n",
    "        display_scroll[0] += 5\n",
    "\n",
    "        for bullet in player_bullets:\n",
    "            bullet.x -= 5\n",
    "    if keys[pygame.K_w]:\n",
    "        display_scroll[1] -= 5\n",
    "\n",
    "        for bullet in player_bullets:\n",
    "            bullet.y += 5\n",
    "    if keys[pygame.K_s]:\n",
    "        display_scroll[1] += 5\n",
    "\n",
    "        for bullet in player_bullets:\n",
    "            bullet.y -= 5\n",
    "\n",
    "    player.main(display)\n",
    "    enemy.main(display,player)\n",
    "\n",
    "    for bullet in player_bullets:\n",
    "        bullet.main(display)\n",
    "\n",
    "    clock.tick(60)\n",
    "    pygame.display.update()"
   ]
  },
  {
   "cell_type": "code",
   "execution_count": null,
   "metadata": {},
   "outputs": [
    {
     "name": "stdout",
     "output_type": "stream",
     "text": [
      "2.38648825011112 -10.922999890392045 10.280470485074863 <class 'float'> <class 'float'>\n"
     ]
    },
    {
     "ename": "",
     "evalue": "",
     "output_type": "error",
     "traceback": [
      "\u001b[1;31m현재 셀 또는 이전 셀에서 코드를 실행하는 동안 Kernel이 충돌했습니다. 셀의 코드를 검토하여 오류의 가능한 원인을 식별하세요. 자세한 내용을 보려면 <a href='https://aka.ms/vscodeJupyterKernelCrash'> 여기 </a> 를 클릭하세요. 자세한 내용은 Jupyter <a href='command:jupyter.viewOutput'>로그</a>를 참조하세요."
     ]
    }
   ],
   "source": [
    "x = 400 \n",
    "y = 300 \n",
    "mouse_x = 434\n",
    "mouse_y = 268\n",
    "speed = 15\n",
    "angle = math.atan2(y-mouse_y, x-mouse_x)\n",
    "x_vel =  math.cos(angle) * speed\n",
    "y_vel = speed * math.sin(angle)\n",
    "print(angle, x_vel,y_vel, type(angle), type(x_vel))"
   ]
  },
  {
   "cell_type": "code",
   "execution_count": 1,
   "metadata": {},
   "outputs": [],
   "source": [
    "class A:\n",
    "    pass\n",
    "a = A()\n"
   ]
  },
  {
   "cell_type": "code",
   "execution_count": 8,
   "metadata": {},
   "outputs": [
    {
     "data": {
      "text/plain": [
       "False"
      ]
     },
     "execution_count": 8,
     "metadata": {},
     "output_type": "execute_result"
    }
   ],
   "source": [
    "isinstance(a, type)"
   ]
  },
  {
   "cell_type": "code",
   "execution_count": 21,
   "metadata": {},
   "outputs": [
    {
     "data": {
      "text/plain": [
       "False"
      ]
     },
     "execution_count": 21,
     "metadata": {},
     "output_type": "execute_result"
    }
   ],
   "source": [
    "import collections\n",
    "import pygame\n",
    "a = pygame.sprite.Group()\n",
    "a.add(pygame.sprite.Sprite())\n",
    "a.add(pygame.sprite.Sprite())\n",
    "isinstance(a, collections.Sequence)"
   ]
  },
  {
   "cell_type": "code",
   "execution_count": 37,
   "metadata": {},
   "outputs": [
    {
     "data": {
      "text/plain": [
       "(3, 2)"
      ]
     },
     "execution_count": 37,
     "metadata": {},
     "output_type": "execute_result"
    }
   ],
   "source": [
    "a = 3\n",
    "b = 2\n",
    "for i in [a, b]:\n",
    "    i += 3\n",
    "a, b"
   ]
  },
  {
   "cell_type": "code",
   "execution_count": 38,
   "metadata": {},
   "outputs": [
    {
     "data": {
      "text/plain": [
       "1.0"
      ]
     },
     "execution_count": 38,
     "metadata": {},
     "output_type": "execute_result"
    }
   ],
   "source": [
    "a = 3.0\n",
    "b = 2.0\n",
    "a // b"
   ]
  },
  {
   "cell_type": "code",
   "execution_count": 42,
   "metadata": {},
   "outputs": [
    {
     "data": {
      "text/plain": [
       "(<Vector2(4, 3)>, <Vector2(1, 2)>, <Vector2(1, 2)>, <Vector2(1, 2)>)"
      ]
     },
     "execution_count": 42,
     "metadata": {},
     "output_type": "execute_result"
    }
   ],
   "source": [
    "from copy import copy, deepcopy\n",
    "import pygame\n",
    "a = pygame.math.Vector2(1, 2)\n",
    "b = a\n",
    "c = copy(a)\n",
    "d = deepcopy(a)\n",
    "e = pygame.math.Vector2(a)\n",
    "\n",
    "a.xy = (4, 3)\n",
    "b, c, d, e"
   ]
  },
  {
   "cell_type": "code",
   "execution_count": 47,
   "metadata": {},
   "outputs": [
    {
     "data": {
      "text/plain": [
       "3"
      ]
     },
     "execution_count": 47,
     "metadata": {},
     "output_type": "execute_result"
    }
   ],
   "source": [
    "class A:\n",
    "    def __init__(self):\n",
    "        self.x = 3\n",
    "\n",
    "class B(A):\n",
    "    def __init__(self):\n",
    "        super().__init__()\n",
    "        self.y = 2\n",
    "\n",
    "b = B()\n",
    "b.x"
   ]
  },
  {
   "cell_type": "code",
   "execution_count": 54,
   "metadata": {},
   "outputs": [],
   "source": [
    "a = pygame.math.Vector2(0, 0.0)\n",
    "if a:\n",
    "    print('ASFD')"
   ]
  },
  {
   "cell_type": "code",
   "execution_count": 62,
   "metadata": {},
   "outputs": [
    {
     "data": {
      "text/plain": [
       "<Vector2(0, 0)>"
      ]
     },
     "execution_count": 62,
     "metadata": {},
     "output_type": "execute_result"
    }
   ],
   "source": [
    "a = pygame.math.Vector2(0, 2)\n",
    "a.scale_to_length(0) if a else a\n",
    "a"
   ]
  },
  {
   "cell_type": "code",
   "execution_count": 6,
   "metadata": {},
   "outputs": [
    {
     "name": "stdout",
     "output_type": "stream",
     "text": [
      "-0b10000000000000000000000000000000\n",
      "0b1000000000000000000000000000000\n",
      "0b1\n",
      "0b10\n",
      "0b10000\n",
      "0b1000000000\n",
      "0b1000000\n",
      "0b10000000\n",
      "0b100000\n"
     ]
    }
   ],
   "source": [
    "import pygame\n",
    "from pygame.locals import *\n",
    "\n",
    "print(bin(FULLSCREEN))\n",
    "print(bin(DOUBLEBUF))\n",
    "print(bin(HWSURFACE))\n",
    "print(bin(OPENGL))\n",
    "print(bin(RESIZABLE))\n",
    "print(bin(NOFRAME))\n",
    "print(bin(SCALED))\n",
    "print(bin(SHOWN))\n",
    "print(bin(HIDDEN))"
   ]
  },
  {
   "cell_type": "code",
   "execution_count": 1,
   "metadata": {},
   "outputs": [
    {
     "name": "stdout",
     "output_type": "stream",
     "text": [
      "pygame 2.1.2 (SDL 2.0.18, Python 3.7.9)\n",
      "Hello from the pygame community. https://www.pygame.org/contribute.html\n"
     ]
    },
    {
     "ename": "GLError",
     "evalue": "GLError(\n\terr = 1282,\n\tdescription = b'invalid operation',\n\tbaseOperation = glRotatef,\n\tcArguments = (1, 1, 1, 1)\n)",
     "output_type": "error",
     "traceback": [
      "\u001b[1;31m---------------------------------------------------------------------------\u001b[0m",
      "\u001b[1;31mGLError\u001b[0m                                   Traceback (most recent call last)",
      "\u001b[1;32m~\\AppData\\Local\\Temp\\ipykernel_15268\\3870037610.py\u001b[0m in \u001b[0;36m<module>\u001b[1;34m\u001b[0m\n\u001b[0;32m     46\u001b[0m \u001b[1;33m\u001b[0m\u001b[0m\n\u001b[0;32m     47\u001b[0m \u001b[1;32mif\u001b[0m \u001b[0m__name__\u001b[0m \u001b[1;33m==\u001b[0m \u001b[1;34m\"__main__\"\u001b[0m\u001b[1;33m:\u001b[0m\u001b[1;33m\u001b[0m\u001b[1;33m\u001b[0m\u001b[0m\n\u001b[1;32m---> 48\u001b[1;33m     \u001b[0mmain\u001b[0m\u001b[1;33m(\u001b[0m\u001b[1;33m)\u001b[0m\u001b[1;33m\u001b[0m\u001b[1;33m\u001b[0m\u001b[0m\n\u001b[0m",
      "\u001b[1;32m~\\AppData\\Local\\Temp\\ipykernel_15268\\3870037610.py\u001b[0m in \u001b[0;36mmain\u001b[1;34m()\u001b[0m\n\u001b[0;32m     38\u001b[0m                 \u001b[0mquit\u001b[0m\u001b[1;33m(\u001b[0m\u001b[1;33m)\u001b[0m\u001b[1;33m\u001b[0m\u001b[1;33m\u001b[0m\u001b[0m\n\u001b[0;32m     39\u001b[0m \u001b[1;33m\u001b[0m\u001b[0m\n\u001b[1;32m---> 40\u001b[1;33m         \u001b[0mglRotatef\u001b[0m\u001b[1;33m(\u001b[0m\u001b[1;36m1\u001b[0m\u001b[1;33m,\u001b[0m \u001b[1;36m1\u001b[0m\u001b[1;33m,\u001b[0m \u001b[1;36m1\u001b[0m\u001b[1;33m,\u001b[0m \u001b[1;36m1\u001b[0m\u001b[1;33m)\u001b[0m\u001b[1;33m\u001b[0m\u001b[1;33m\u001b[0m\u001b[0m\n\u001b[0m\u001b[0;32m     41\u001b[0m         \u001b[0mglClear\u001b[0m\u001b[1;33m(\u001b[0m\u001b[0mGL_COLOR_BUFFER_BIT\u001b[0m\u001b[1;33m|\u001b[0m\u001b[0mGL_DEPTH_BUFFER_BIT\u001b[0m\u001b[1;33m)\u001b[0m\u001b[1;33m\u001b[0m\u001b[1;33m\u001b[0m\u001b[0m\n\u001b[0;32m     42\u001b[0m         \u001b[1;31m# solidCube()\u001b[0m\u001b[1;33m\u001b[0m\u001b[1;33m\u001b[0m\u001b[1;33m\u001b[0m\u001b[0m\n",
      "\u001b[1;32msrc/errorchecker.pyx\u001b[0m in \u001b[0;36mOpenGL_accelerate.errorchecker._ErrorChecker.glCheckError\u001b[1;34m()\u001b[0m\n",
      "\u001b[1;31mGLError\u001b[0m: GLError(\n\terr = 1282,\n\tdescription = b'invalid operation',\n\tbaseOperation = glRotatef,\n\tcArguments = (1, 1, 1, 1)\n)"
     ]
    },
    {
     "ename": "",
     "evalue": "",
     "output_type": "error",
     "traceback": [
      "현재 셀 또는 이전 셀에서 코드를 실행하는 동안 Kernel이 충돌했습니다. 셀의 코드를 검토하여 오류의 가능한 원인을 식별하세요. 자세한 내용을 보려면 <a href='https://aka.ms/vscodeJupyterKernelCrash'> 여기 </a> 를 클릭하세요. 자세한 내용은 Jupyter <a href='command:jupyter.viewOutput'>로그</a>를 참조하세요."
     ]
    }
   ],
   "source": [
    "import pygame as pg\n",
    "from pygame.locals import *\n",
    "\n",
    "from OpenGL.GL import *\n",
    "from OpenGL.GLU import *\n",
    "\n",
    "cubeVertices = ((1,1,1),(1,1,-1),(1,-1,-1),(1,-1,1),(-1,1,1),(-1,-1,-1),(-1,-1,1),(-1,1,-1))\n",
    "cubeEdges = ((0,1),(0,3),(0,4),(1,2),(1,7),(2,5),(2,3),(3,6),(4,6),(4,7),(5,6),(5,7))\n",
    "cubeQuads = ((0,3,6,4),(2,5,6,3),(1,2,5,7),(1,0,4,7),(7,4,6,5),(2,3,0,1))\n",
    "\n",
    "def wireCube():\n",
    "    glBegin(GL_LINES)\n",
    "    for cubeEdge in cubeEdges:\n",
    "        for cubeVertex in cubeEdge:\n",
    "            glVertex3fv(cubeVertices[cubeVertex])\n",
    "    glEnd()\n",
    "\n",
    "def solidCube():\n",
    "    glBegin(GL_QUADS)\n",
    "    for cubeQuad in cubeQuads:\n",
    "        for cubeVertex in cubeQuad:\n",
    "            glVertex3fv(cubeVertices[cubeVertex])\n",
    "    glEnd()\n",
    "\n",
    "def main():\n",
    "    pg.init()\n",
    "    display = (1680, 1050)\n",
    "    pg.display.set_mode(display, DOUBLEBUF|OPENGL)\n",
    "\n",
    "    gluPerspective(45, (display[0]/display[1]), 0.1, 50.0)\n",
    "\n",
    "    glTranslatef(0.0, 0.0, -5)\n",
    "\n",
    "    while True:\n",
    "        for event in pg.event.get():\n",
    "            if event.type == pg.QUIT:\n",
    "                pg.quit()\n",
    "                quit()\n",
    "\n",
    "        glRotatef(1, 1, 1, 1)\n",
    "        glClear(GL_COLOR_BUFFER_BIT|GL_DEPTH_BUFFER_BIT)\n",
    "        # solidCube()\n",
    "        wireCube()\n",
    "        pg.display.flip()\n",
    "        pg.time.wait(10)\n",
    "\n",
    "if __name__ == \"__main__\":\n",
    "    main()"
   ]
  },
  {
   "cell_type": "code",
   "execution_count": 5,
   "metadata": {},
   "outputs": [
    {
     "data": {
      "text/plain": [
       "<bound method b2ContactManager_AddPair of b2ContactManager(allocator=None,\n",
       "                 broadPhase=proxyCount=0,),\n",
       "                 contactCount=0,\n",
       "                 contactFilter=b2ContactFilter(),\n",
       "                 contactList=None,\n",
       "                 contactListener=b2ContactListener(),\n",
       "                 )>"
      ]
     },
     "execution_count": 5,
     "metadata": {},
     "output_type": "execute_result"
    }
   ],
   "source": [
    "import Box2D\n",
    "\n",
    "b = Box2D.b2ContactManager()\n"
   ]
  },
  {
   "cell_type": "code",
   "execution_count": null,
   "metadata": {},
   "outputs": [],
   "source": [
    "import moderngl"
   ]
  },
  {
   "cell_type": "code",
   "execution_count": 2,
   "metadata": {},
   "outputs": [],
   "source": [
    "class A:\n",
    "    _a = []\n",
    "    for i in range(100):\n",
    "        _a.append(i)"
   ]
  },
  {
   "cell_type": "code",
   "execution_count": 3,
   "metadata": {},
   "outputs": [
    {
     "data": {
      "text/plain": [
       "[0,\n",
       " 1,\n",
       " 2,\n",
       " 3,\n",
       " 4,\n",
       " 5,\n",
       " 6,\n",
       " 7,\n",
       " 8,\n",
       " 9,\n",
       " 10,\n",
       " 11,\n",
       " 12,\n",
       " 13,\n",
       " 14,\n",
       " 15,\n",
       " 16,\n",
       " 17,\n",
       " 18,\n",
       " 19,\n",
       " 20,\n",
       " 21,\n",
       " 22,\n",
       " 23,\n",
       " 24,\n",
       " 25,\n",
       " 26,\n",
       " 27,\n",
       " 28,\n",
       " 29,\n",
       " 30,\n",
       " 31,\n",
       " 32,\n",
       " 33,\n",
       " 34,\n",
       " 35,\n",
       " 36,\n",
       " 37,\n",
       " 38,\n",
       " 39,\n",
       " 40,\n",
       " 41,\n",
       " 42,\n",
       " 43,\n",
       " 44,\n",
       " 45,\n",
       " 46,\n",
       " 47,\n",
       " 48,\n",
       " 49,\n",
       " 50,\n",
       " 51,\n",
       " 52,\n",
       " 53,\n",
       " 54,\n",
       " 55,\n",
       " 56,\n",
       " 57,\n",
       " 58,\n",
       " 59,\n",
       " 60,\n",
       " 61,\n",
       " 62,\n",
       " 63,\n",
       " 64,\n",
       " 65,\n",
       " 66,\n",
       " 67,\n",
       " 68,\n",
       " 69,\n",
       " 70,\n",
       " 71,\n",
       " 72,\n",
       " 73,\n",
       " 74,\n",
       " 75,\n",
       " 76,\n",
       " 77,\n",
       " 78,\n",
       " 79,\n",
       " 80,\n",
       " 81,\n",
       " 82,\n",
       " 83,\n",
       " 84,\n",
       " 85,\n",
       " 86,\n",
       " 87,\n",
       " 88,\n",
       " 89,\n",
       " 90,\n",
       " 91,\n",
       " 92,\n",
       " 93,\n",
       " 94,\n",
       " 95,\n",
       " 96,\n",
       " 97,\n",
       " 98,\n",
       " 99]"
      ]
     },
     "execution_count": 3,
     "metadata": {},
     "output_type": "execute_result"
    }
   ],
   "source": [
    "A._a"
   ]
  },
  {
   "cell_type": "code",
   "execution_count": 11,
   "metadata": {},
   "outputs": [
    {
     "name": "stdout",
     "output_type": "stream",
     "text": [
      "Class assignment\n",
      "Instance assignment\n",
      "Instance assignment\n"
     ]
    },
    {
     "data": {
      "text/plain": [
       "<__main__.Foo at 0x22bc2a30d08>"
      ]
     },
     "execution_count": 11,
     "metadata": {},
     "output_type": "execute_result"
    }
   ],
   "source": [
    "\n",
    "\n",
    "class Bar(object):\n",
    "\n",
    "    def __init__(self, x):\n",
    "        self.x = x\n",
    "\n",
    "    def called_class():\n",
    "        print (\"Class assignment\")\n",
    "        return 2\n",
    "    \n",
    "    y = called_class()\n",
    "\n",
    "## \"Class assignment\"\n",
    "\n",
    "def called_instance():\n",
    "    print (\"Instance assignment\")\n",
    "    return 2\n",
    "\n",
    "class Foo(object):\n",
    "    def __init__(self, x):\n",
    "        self.y = called_instance()\n",
    "        self.x = x\n",
    "\n",
    "Bar(1)\n",
    "Bar(2)\n",
    "Foo(1)\n",
    "## \"Instance assignment\"\n",
    "Foo(2)\n",
    "## \"Instance assignment\""
   ]
  },
  {
   "cell_type": "code",
   "execution_count": null,
   "metadata": {},
   "outputs": [],
   "source": [
    "import Box2D\n",
    "Box2D.b2Body().conta"
   ]
  },
  {
   "cell_type": "code",
   "execution_count": null,
   "metadata": {},
   "outputs": [],
   "source": [
    "Box2D.Box2D.b2ContactEdge().contact\n",
    "Box2D.Box2D.b2Contact()."
   ]
  },
  {
   "cell_type": "code",
   "execution_count": 5,
   "metadata": {},
   "outputs": [
    {
     "data": {
      "text/plain": [
       "b2FixtureDef(categoryBits=1,\n",
       "             density=0.0,\n",
       "             filter=categoryBits=1,groupIndex=0,maskBits=65535,),\n",
       "             friction=0.20000000298023224,\n",
       "             groupIndex=0,\n",
       "             isSensor=False,\n",
       "             maskBits=65535,\n",
       "             restitution=0.0,\n",
       "             shape=None,\n",
       "             userData=None,\n",
       "             )"
      ]
     },
     "execution_count": 5,
     "metadata": {},
     "output_type": "execute_result"
    }
   ],
   "source": [
    "Box2D.b2FixtureDef()"
   ]
  },
  {
   "cell_type": "code",
   "execution_count": 16,
   "metadata": {},
   "outputs": [
    {
     "data": {
      "text/plain": [
       "b2FixtureDef(categoryBits=65535,\n",
       "             density=1.0,\n",
       "             filter=categoryBits=65535,groupIndex=0,maskBits=65535,),\n",
       "             friction=0.20000000298023224,\n",
       "             groupIndex=0,\n",
       "             isSensor=False,\n",
       "             maskBits=65535,\n",
       "             restitution=0.0,\n",
       "             shape=b2PolygonShape(vertices: []),\n",
       "             userData=None,\n",
       "             )"
      ]
     },
     "execution_count": 16,
     "metadata": {},
     "output_type": "execute_result"
    }
   ],
   "source": [
    "import Box2D\n",
    "Box2D.b2FixtureDef(density=1.0, shape=Box2D.b2PolygonShape(), categoryBits=0xFFFF)"
   ]
  },
  {
   "cell_type": "code",
   "execution_count": 37,
   "metadata": {},
   "outputs": [
    {
     "data": {
      "text/plain": [
       "b2Vec2(0,0)"
      ]
     },
     "execution_count": 37,
     "metadata": {},
     "output_type": "execute_result"
    }
   ],
   "source": [
    "Box2D.b2Vec2()."
   ]
  },
  {
   "cell_type": "code",
   "execution_count": 44,
   "metadata": {},
   "outputs": [
    {
     "data": {
      "text/plain": [
       "33.690067525979785"
      ]
     },
     "execution_count": 44,
     "metadata": {},
     "output_type": "execute_result"
    }
   ],
   "source": [
    "import pygame\n",
    "a = pygame.math.Vector2(3, 2)\n",
    "pygame.math.Vector2().angle_to(a)"
   ]
  },
  {
   "cell_type": "code",
   "execution_count": 53,
   "metadata": {},
   "outputs": [],
   "source": [
    "class A:\n",
    "    a = 3\n",
    "\n",
    "a = [A() for i in range(2)]\n"
   ]
  },
  {
   "cell_type": "code",
   "execution_count": 54,
   "metadata": {},
   "outputs": [
    {
     "data": {
      "text/plain": [
       "<__main__.A at 0x28f0153e7c8>"
      ]
     },
     "execution_count": 54,
     "metadata": {},
     "output_type": "execute_result"
    }
   ],
   "source": [
    "b = A()\n",
    "b.a = 42\n",
    "a.append(b)\n",
    "b"
   ]
  },
  {
   "cell_type": "code",
   "execution_count": 55,
   "metadata": {},
   "outputs": [
    {
     "name": "stdout",
     "output_type": "stream",
     "text": [
      "[<__main__.A object at 0x0000028F01566A48>, <__main__.A object at 0x0000028F01566B88>, <__main__.A object at 0x0000028F0153E7C8>]\n"
     ]
    }
   ],
   "source": [
    "print(a)"
   ]
  },
  {
   "cell_type": "code",
   "execution_count": 56,
   "metadata": {},
   "outputs": [],
   "source": [
    "del b"
   ]
  },
  {
   "cell_type": "code",
   "execution_count": 57,
   "metadata": {},
   "outputs": [
    {
     "name": "stdout",
     "output_type": "stream",
     "text": [
      "[<__main__.A object at 0x0000028F01566A48>, <__main__.A object at 0x0000028F01566B88>, <__main__.A object at 0x0000028F0153E7C8>]\n"
     ]
    }
   ],
   "source": [
    "print(a)"
   ]
  },
  {
   "cell_type": "code",
   "execution_count": 60,
   "metadata": {},
   "outputs": [
    {
     "ename": "NameError",
     "evalue": "name 'b' is not defined",
     "output_type": "error",
     "traceback": [
      "\u001b[1;31m---------------------------------------------------------------------------\u001b[0m",
      "\u001b[1;31mNameError\u001b[0m                                 Traceback (most recent call last)",
      "\u001b[1;32m~\\AppData\\Local\\Temp\\ipykernel_3916\\1685013873.py\u001b[0m in \u001b[0;36m<module>\u001b[1;34m\u001b[0m\n\u001b[1;32m----> 1\u001b[1;33m \u001b[0mb\u001b[0m\u001b[1;33m\u001b[0m\u001b[1;33m\u001b[0m\u001b[0m\n\u001b[0m",
      "\u001b[1;31mNameError\u001b[0m: name 'b' is not defined"
     ]
    }
   ],
   "source": [
    "b"
   ]
  },
  {
   "cell_type": "code",
   "execution_count": 61,
   "metadata": {},
   "outputs": [
    {
     "data": {
      "text/plain": [
       "42"
      ]
     },
     "execution_count": 61,
     "metadata": {},
     "output_type": "execute_result"
    }
   ],
   "source": [
    "a[2].a"
   ]
  },
  {
   "cell_type": "code",
   "execution_count": null,
   "metadata": {},
   "outputs": [],
   "source": [
    "Box2D.Box2D.b2Transform()."
   ]
  },
  {
   "cell_type": "code",
   "execution_count": 4,
   "metadata": {},
   "outputs": [
    {
     "data": {
      "text/plain": [
       "pygame.Surface"
      ]
     },
     "execution_count": 4,
     "metadata": {},
     "output_type": "execute_result"
    },
    {
     "ename": "",
     "evalue": "",
     "output_type": "error",
     "traceback": [
      "현재 셀 또는 이전 셀에서 코드를 실행하는 동안 Kernel이 충돌했습니다. 셀의 코드를 검토하여 오류의 가능한 원인을 식별하세요. 자세한 내용을 보려면 <a href='https://aka.ms/vscodeJupyterKernelCrash'> 여기 </a> 를 클릭하세요. 자세한 내용은 Jupyter <a href='command:jupyter.viewOutput'>로그</a>를 참조하세요."
     ]
    }
   ],
   "source": [
    "import pygame\n",
    "\n",
    "screen = pygame.display.set_mode((1, 1))\n",
    "a = pygame.image.load('../test/graphics/pixil-frame-0.png').convert_alpha()\n"
   ]
  },
  {
   "cell_type": "code",
   "execution_count": 5,
   "metadata": {},
   "outputs": [],
   "source": [
    "a = int(input(\"asdf\"))"
   ]
  },
  {
   "cell_type": "code",
   "execution_count": 54,
   "metadata": {},
   "outputs": [
    {
     "data": {
      "text/plain": [
       "b2Vec2(0,0.48)"
      ]
     },
     "execution_count": 54,
     "metadata": {},
     "output_type": "execute_result"
    }
   ],
   "source": [
    "import Box2D\n",
    "import math\n",
    "PPM = 20\n",
    "def _get_ellipsis_vertices(cls, pos, size):\n",
    "\tprecision = 8\n",
    "\tvertices = []\n",
    "\trect_size = (32, 32)\n",
    "\tfor i in range(precision):\n",
    "\t\tangle = math.pi * 2 / precision * i\n",
    "\t\tx = (math.cos(angle) * size[0] + pos[0]) * rect_size[0] / PPM\n",
    "\t\ty = (math.sin(angle) * size[1] + pos[1]) * rect_size[1] / PPM\n",
    "\t\tvertices.append(Box2D.b2Vec2(x, y))\n",
    "\treturn vertices\n",
    "\n",
    "fixture = Box2D.b2FixtureDef(\n",
    "\t\tdensity=100.0,\n",
    "\t\tshape=Box2D.b2PolygonShape(vertices=_get_ellipsis_vertices(None, (0, 0.3), (0.4, 0.2))),\n",
    "\t)\n",
    "\n",
    "world = Box2D.b2World()\n",
    "body = world.CreateDynamicBody(position=(0, 0))\n",
    "body.CreateFixture(fixture)\n",
    "body.fixedRotation = True\n",
    "\n",
    "from pprint import pprint\n",
    "# pprint(list(body.fixtures[0].__class__.__dict__.keys()))\n",
    "body.fixtures[0].shape.centroid"
   ]
  },
  {
   "cell_type": "code",
   "execution_count": 48,
   "metadata": {},
   "outputs": [
    {
     "data": {
      "text/plain": [
       "{'bullet_idle': ['..\\\\assets\\\\bullet_idle\\\\0.png'],\n",
       " 'player_idle': ['..\\\\assets\\\\player_idle\\\\0.png',\n",
       "  '..\\\\assets\\\\player_idle\\\\1.png',\n",
       "  '..\\\\assets\\\\player_idle\\\\2.png',\n",
       "  '..\\\\assets\\\\player_idle\\\\3.png',\n",
       "  '..\\\\assets\\\\player_idle\\\\4.png',\n",
       "  '..\\\\assets\\\\player_idle\\\\5.png'],\n",
       " 'player_run': ['..\\\\assets\\\\player_run\\\\0.png',\n",
       "  '..\\\\assets\\\\player_run\\\\1.png',\n",
       "  '..\\\\assets\\\\player_run\\\\2.png',\n",
       "  '..\\\\assets\\\\player_run\\\\3.png',\n",
       "  '..\\\\assets\\\\player_run\\\\4.png',\n",
       "  '..\\\\assets\\\\player_run\\\\5.png',\n",
       "  '..\\\\assets\\\\player_run\\\\6.png',\n",
       "  '..\\\\assets\\\\player_run\\\\7.png'],\n",
       " 'tree_idle': ['..\\\\assets\\\\tree_idle\\\\0.png']}"
      ]
     },
     "execution_count": 48,
     "metadata": {},
     "output_type": "execute_result"
    }
   ],
   "source": [
    "from os import path\n",
    "from glob import glob\n",
    "{\n",
    "    path.basename(sprite_path) : [image_path for image_path in glob(path.join(sprite_path, '*'))]\n",
    "    for sprite_path in glob(path.join('..', 'assets', '*'))\n",
    "}\n"
   ]
  },
  {
   "cell_type": "code",
   "execution_count": 6,
   "metadata": {},
   "outputs": [
    {
     "data": {
      "text/plain": [
       "{'x': 15, 'y': 24, 'l': 2, 't': 20, 'r': 29, 'b': 29}"
      ]
     },
     "execution_count": 6,
     "metadata": {},
     "output_type": "execute_result"
    }
   ],
   "source": [
    "import json\n",
    "from os import path\n",
    "p = path.join('..', 'assets', 'tree_idle', 'meta.json')\n",
    "f = open(p)\n",
    "f.close()\n",
    "with open(p) as f:\n",
    "    json_object = json.load(f)\n",
    "json_object"
   ]
  },
  {
   "cell_type": "code",
   "execution_count": 9,
   "metadata": {},
   "outputs": [
    {
     "data": {
      "text/plain": [
       "{'x': 15, 'y': 24, 'l': 2, 't': 20, 'r': 29, 'b': 29}"
      ]
     },
     "execution_count": 9,
     "metadata": {},
     "output_type": "execute_result"
    }
   ],
   "source": [
    "import pathlib\n",
    "json.loads(pathlib.Path('..', 'assets', 'tree_idle', 'meta.json').read_text())\n"
   ]
  },
  {
   "cell_type": "code",
   "execution_count": 14,
   "metadata": {},
   "outputs": [
    {
     "data": {
      "text/plain": [
       "[WindowsPath('../assets/tree_idle/0.png'),\n",
       " WindowsPath('../assets/tree_idle/meta.json')]"
      ]
     },
     "execution_count": 14,
     "metadata": {},
     "output_type": "execute_result"
    }
   ],
   "source": [
    "from glob import glob\n",
    "list(pathlib.Path('..', 'assets', 'tree_idle').glob('*'))"
   ]
  },
  {
   "cell_type": "code",
   "execution_count": null,
   "metadata": {},
   "outputs": [],
   "source": [
    "import pygame\n",
    "import pathlib\n",
    "pygame.display.init()\n",
    "pygame.display.set_mode((1280, 720))\n",
    "pygame.image.load(pathlib.Path('..', 'assets', 'tree_idle', '0.png')).convert_alpha()\n",
    "pathlib.Path('..', 'assets', 'tree_idle', '0.png').name"
   ]
  },
  {
   "cell_type": "code",
   "execution_count": 2,
   "metadata": {},
   "outputs": [
    {
     "data": {
      "text/plain": [
       "'0.png'"
      ]
     },
     "execution_count": 2,
     "metadata": {},
     "output_type": "execute_result"
    }
   ],
   "source": [
    "import pathlib\n",
    "pathlib.Path('..', 'assets', 'tree_idle', '0.png').name"
   ]
  },
  {
   "cell_type": "code",
   "execution_count": 18,
   "metadata": {},
   "outputs": [
    {
     "data": {
      "text/plain": [
       "array([0, 0, 0, 0, 1, 0, 1, 0, 1, 1, 1, 1, 0, 1, 0, 1])"
      ]
     },
     "execution_count": 18,
     "metadata": {},
     "output_type": "execute_result"
    }
   ],
   "source": [
    "import numpy as np\n",
    "uv = np.array([\n",
    "    [0, 0], [1, 0], [1, 1], [0, 1],\n",
    "])\n",
    "np.hstack([uv, uv]).flatten()"
   ]
  },
  {
   "cell_type": "code",
   "execution_count": 3,
   "metadata": {},
   "outputs": [
    {
     "data": {
      "text/plain": [
       "<property at 0x2911063d318>"
      ]
     },
     "execution_count": 3,
     "metadata": {},
     "output_type": "execute_result"
    }
   ],
   "source": [
    "import Box2D\n",
    "Box2D.b2Body.linearVelocity"
   ]
  },
  {
   "cell_type": "code",
   "execution_count": 7,
   "metadata": {},
   "outputs": [
    {
     "name": "stdout",
     "output_type": "stream",
     "text": [
      "None\n"
     ]
    }
   ],
   "source": [
    "a = None\n",
    "print(a)"
   ]
  },
  {
   "cell_type": "code",
   "execution_count": 31,
   "metadata": {},
   "outputs": [],
   "source": [
    "import numpy as np\n",
    "import pygame\n",
    "import Box2D\n",
    "ndarray = np.array([3, 2, 1], dtype=np.float64)\n",
    "pyvec = pygame.Vector3(2, 3, 1)\n",
    "boxvec = Box2D.b2Vec3(2, 3, 1)\n",
    "tup = (2, 2, 3)"
   ]
  },
  {
   "cell_type": "code",
   "execution_count": 69,
   "metadata": {},
   "outputs": [
    {
     "ename": "TypeError",
     "evalue": "object.__init__() takes exactly one argument (the instance to initialize)",
     "output_type": "error",
     "traceback": [
      "\u001b[1;31m---------------------------------------------------------------------------\u001b[0m",
      "\u001b[1;31mTypeError\u001b[0m                                 Traceback (most recent call last)",
      "\u001b[1;32m~\\AppData\\Local\\Temp\\ipykernel_7016\\176529769.py\u001b[0m in \u001b[0;36m<module>\u001b[1;34m\u001b[0m\n\u001b[0;32m      3\u001b[0m         \u001b[0msuper\u001b[0m\u001b[1;33m(\u001b[0m\u001b[1;33m)\u001b[0m\u001b[1;33m.\u001b[0m\u001b[0m__init__\u001b[0m\u001b[1;33m(\u001b[0m\u001b[0mx\u001b[0m\u001b[1;33m)\u001b[0m\u001b[1;33m\u001b[0m\u001b[1;33m\u001b[0m\u001b[0m\n\u001b[0;32m      4\u001b[0m \u001b[1;33m\u001b[0m\u001b[0m\n\u001b[1;32m----> 5\u001b[1;33m \u001b[0mv\u001b[0m \u001b[1;33m=\u001b[0m \u001b[0mVec3\u001b[0m\u001b[1;33m(\u001b[0m\u001b[1;33m[\u001b[0m\u001b[1;36m13\u001b[0m\u001b[1;33m,\u001b[0m \u001b[1;36m2\u001b[0m\u001b[1;33m,\u001b[0m \u001b[1;36m1\u001b[0m\u001b[1;33m]\u001b[0m\u001b[1;33m)\u001b[0m\u001b[1;33m\u001b[0m\u001b[1;33m\u001b[0m\u001b[0m\n\u001b[0m",
      "\u001b[1;32m~\\AppData\\Local\\Temp\\ipykernel_7016\\176529769.py\u001b[0m in \u001b[0;36m__init__\u001b[1;34m(self, x)\u001b[0m\n\u001b[0;32m      1\u001b[0m \u001b[1;32mclass\u001b[0m \u001b[0mVec3\u001b[0m\u001b[1;33m(\u001b[0m\u001b[0mnp\u001b[0m\u001b[1;33m.\u001b[0m\u001b[0mndarray\u001b[0m\u001b[1;33m)\u001b[0m\u001b[1;33m:\u001b[0m\u001b[1;33m\u001b[0m\u001b[1;33m\u001b[0m\u001b[0m\n\u001b[0;32m      2\u001b[0m     \u001b[1;32mdef\u001b[0m \u001b[0m__init__\u001b[0m\u001b[1;33m(\u001b[0m\u001b[0mself\u001b[0m\u001b[1;33m,\u001b[0m \u001b[0mx\u001b[0m\u001b[1;33m)\u001b[0m\u001b[1;33m:\u001b[0m\u001b[1;33m\u001b[0m\u001b[1;33m\u001b[0m\u001b[0m\n\u001b[1;32m----> 3\u001b[1;33m         \u001b[0msuper\u001b[0m\u001b[1;33m(\u001b[0m\u001b[1;33m)\u001b[0m\u001b[1;33m.\u001b[0m\u001b[0m__init__\u001b[0m\u001b[1;33m(\u001b[0m\u001b[0mx\u001b[0m\u001b[1;33m)\u001b[0m\u001b[1;33m\u001b[0m\u001b[1;33m\u001b[0m\u001b[0m\n\u001b[0m\u001b[0;32m      4\u001b[0m \u001b[1;33m\u001b[0m\u001b[0m\n\u001b[0;32m      5\u001b[0m \u001b[0mv\u001b[0m \u001b[1;33m=\u001b[0m \u001b[0mVec3\u001b[0m\u001b[1;33m(\u001b[0m\u001b[1;33m[\u001b[0m\u001b[1;36m13\u001b[0m\u001b[1;33m,\u001b[0m \u001b[1;36m2\u001b[0m\u001b[1;33m,\u001b[0m \u001b[1;36m1\u001b[0m\u001b[1;33m]\u001b[0m\u001b[1;33m)\u001b[0m\u001b[1;33m\u001b[0m\u001b[1;33m\u001b[0m\u001b[0m\n",
      "\u001b[1;31mTypeError\u001b[0m: object.__init__() takes exactly one argument (the instance to initialize)"
     ]
    }
   ],
   "source": [
    "class Vec3(np.ndarray):\n",
    "    def __init__(self, x):\n",
    "        super().__init__(x)\n",
    "\n",
    "v = Vec3([13, 2, 1])"
   ]
  },
  {
   "cell_type": "code",
   "execution_count": 72,
   "metadata": {},
   "outputs": [
    {
     "data": {
      "text/plain": [
       "array([[0, 1, 2],\n",
       "       [3, 4, 5],\n",
       "       [6, 7, 8]])"
      ]
     },
     "execution_count": 72,
     "metadata": {},
     "output_type": "execute_result"
    }
   ],
   "source": [
    "import numpy as np\n",
    "x = np.arange(9).reshape(3, 3)\n",
    "x"
   ]
  },
  {
   "cell_type": "code",
   "execution_count": 85,
   "metadata": {},
   "outputs": [
    {
     "data": {
      "text/plain": [
       "array([0, 0, 0])"
      ]
     },
     "execution_count": 85,
     "metadata": {},
     "output_type": "execute_result"
    }
   ],
   "source": [
    "y = np.zeros(3, dtype=np.int32)\n",
    "y"
   ]
  },
  {
   "cell_type": "code",
   "execution_count": 86,
   "metadata": {},
   "outputs": [
    {
     "data": {
      "text/plain": [
       "array([ 9, 12, 15])"
      ]
     },
     "execution_count": 86,
     "metadata": {},
     "output_type": "execute_result"
    }
   ],
   "source": [
    "np.add.reduce(x, 0, out=y)"
   ]
  },
  {
   "cell_type": "code",
   "execution_count": 28,
   "metadata": {},
   "outputs": [
    {
     "data": {
      "text/plain": [
       "'xy'"
      ]
     },
     "execution_count": 28,
     "metadata": {},
     "output_type": "execute_result"
    }
   ],
   "source": [
    "t = ('x', 'y')\n",
    "''.join(t)"
   ]
  },
  {
   "cell_type": "code",
   "execution_count": 31,
   "metadata": {},
   "outputs": [
    {
     "name": "stdout",
     "output_type": "stream",
     "text": [
      "['x', 'r', 'xx', 'xy', 'yx', 'yy', 'rr', 'rg', 'gr', 'gg', 'xxx', 'xxy', 'xxz', 'xyx', 'xyy', 'xyz', 'xzx', 'xzy', 'xzz', 'yxx', 'yxy', 'yxz', 'yyx', 'yyy', 'yyz', 'yzx', 'yzy', 'yzz', 'zxx', 'zxy', 'zxz', 'zyx', 'zyy', 'zyz', 'zzx', 'zzy', 'zzz', 'xxx', 'xxy', 'xxz', 'xyx', 'xyy', 'xyz', 'xzx', 'xzy', 'xzz', 'yxx', 'yxy', 'yxz', 'yyx', 'yyy', 'yyz', 'yzx', 'yzy', 'yzz', 'zxx', 'zxy', 'zxz', 'zyx', 'zyy', 'zyz', 'zzx', 'zzy', 'zzz', 'xxxx', 'xxxy', 'xxxz', 'xxxw', 'xxyx', 'xxyy', 'xxyz', 'xxyw', 'xxzx', 'xxzy', 'xxzz', 'xxzw', 'xxwx', 'xxwy', 'xxwz', 'xxww', 'xyxx', 'xyxy', 'xyxz', 'xyxw', 'xyyx', 'xyyy', 'xyyz', 'xyyw', 'xyzx', 'xyzy', 'xyzz', 'xyzw', 'xywx', 'xywy', 'xywz', 'xyww', 'xzxx', 'xzxy', 'xzxz', 'xzxw', 'xzyx', 'xzyy', 'xzyz', 'xzyw', 'xzzx', 'xzzy', 'xzzz', 'xzzw', 'xzwx', 'xzwy', 'xzwz', 'xzww', 'xwxx', 'xwxy', 'xwxz', 'xwxw', 'xwyx', 'xwyy', 'xwyz', 'xwyw', 'xwzx', 'xwzy', 'xwzz', 'xwzw', 'xwwx', 'xwwy', 'xwwz', 'xwww', 'yxxx', 'yxxy', 'yxxz', 'yxxw', 'yxyx', 'yxyy', 'yxyz', 'yxyw', 'yxzx', 'yxzy', 'yxzz', 'yxzw', 'yxwx', 'yxwy', 'yxwz', 'yxww', 'yyxx', 'yyxy', 'yyxz', 'yyxw', 'yyyx', 'yyyy', 'yyyz', 'yyyw', 'yyzx', 'yyzy', 'yyzz', 'yyzw', 'yywx', 'yywy', 'yywz', 'yyww', 'yzxx', 'yzxy', 'yzxz', 'yzxw', 'yzyx', 'yzyy', 'yzyz', 'yzyw', 'yzzx', 'yzzy', 'yzzz', 'yzzw', 'yzwx', 'yzwy', 'yzwz', 'yzww', 'ywxx', 'ywxy', 'ywxz', 'ywxw', 'ywyx', 'ywyy', 'ywyz', 'ywyw', 'ywzx', 'ywzy', 'ywzz', 'ywzw', 'ywwx', 'ywwy', 'ywwz', 'ywww', 'zxxx', 'zxxy', 'zxxz', 'zxxw', 'zxyx', 'zxyy', 'zxyz', 'zxyw', 'zxzx', 'zxzy', 'zxzz', 'zxzw', 'zxwx', 'zxwy', 'zxwz', 'zxww', 'zyxx', 'zyxy', 'zyxz', 'zyxw', 'zyyx', 'zyyy', 'zyyz', 'zyyw', 'zyzx', 'zyzy', 'zyzz', 'zyzw', 'zywx', 'zywy', 'zywz', 'zyww', 'zzxx', 'zzxy', 'zzxz', 'zzxw', 'zzyx', 'zzyy', 'zzyz', 'zzyw', 'zzzx', 'zzzy', 'zzzz', 'zzzw', 'zzwx', 'zzwy', 'zzwz', 'zzww', 'zwxx', 'zwxy', 'zwxz', 'zwxw', 'zwyx', 'zwyy', 'zwyz', 'zwyw', 'zwzx', 'zwzy', 'zwzz', 'zwzw', 'zwwx', 'zwwy', 'zwwz', 'zwww', 'wxxx', 'wxxy', 'wxxz', 'wxxw', 'wxyx', 'wxyy', 'wxyz', 'wxyw', 'wxzx', 'wxzy', 'wxzz', 'wxzw', 'wxwx', 'wxwy', 'wxwz', 'wxww', 'wyxx', 'wyxy', 'wyxz', 'wyxw', 'wyyx', 'wyyy', 'wyyz', 'wyyw', 'wyzx', 'wyzy', 'wyzz', 'wyzw', 'wywx', 'wywy', 'wywz', 'wyww', 'wzxx', 'wzxy', 'wzxz', 'wzxw', 'wzyx', 'wzyy', 'wzyz', 'wzyw', 'wzzx', 'wzzy', 'wzzz', 'wzzw', 'wzwx', 'wzwy', 'wzwz', 'wzww', 'wwxx', 'wwxy', 'wwxz', 'wwxw', 'wwyx', 'wwyy', 'wwyz', 'wwyw', 'wwzx', 'wwzy', 'wwzz', 'wwzw', 'wwwx', 'wwwy', 'wwwz', 'wwww', 'rrrr', 'rrrg', 'rrrb', 'rrra', 'rrgr', 'rrgg', 'rrgb', 'rrga', 'rrbr', 'rrbg', 'rrbb', 'rrba', 'rrar', 'rrag', 'rrab', 'rraa', 'rgrr', 'rgrg', 'rgrb', 'rgra', 'rggr', 'rggg', 'rggb', 'rgga', 'rgbr', 'rgbg', 'rgbb', 'rgba', 'rgar', 'rgag', 'rgab', 'rgaa', 'rbrr', 'rbrg', 'rbrb', 'rbra', 'rbgr', 'rbgg', 'rbgb', 'rbga', 'rbbr', 'rbbg', 'rbbb', 'rbba', 'rbar', 'rbag', 'rbab', 'rbaa', 'rarr', 'rarg', 'rarb', 'rara', 'ragr', 'ragg', 'ragb', 'raga', 'rabr', 'rabg', 'rabb', 'raba', 'raar', 'raag', 'raab', 'raaa', 'grrr', 'grrg', 'grrb', 'grra', 'grgr', 'grgg', 'grgb', 'grga', 'grbr', 'grbg', 'grbb', 'grba', 'grar', 'grag', 'grab', 'graa', 'ggrr', 'ggrg', 'ggrb', 'ggra', 'gggr', 'gggg', 'gggb', 'ggga', 'ggbr', 'ggbg', 'ggbb', 'ggba', 'ggar', 'ggag', 'ggab', 'ggaa', 'gbrr', 'gbrg', 'gbrb', 'gbra', 'gbgr', 'gbgg', 'gbgb', 'gbga', 'gbbr', 'gbbg', 'gbbb', 'gbba', 'gbar', 'gbag', 'gbab', 'gbaa', 'garr', 'garg', 'garb', 'gara', 'gagr', 'gagg', 'gagb', 'gaga', 'gabr', 'gabg', 'gabb', 'gaba', 'gaar', 'gaag', 'gaab', 'gaaa', 'brrr', 'brrg', 'brrb', 'brra', 'brgr', 'brgg', 'brgb', 'brga', 'brbr', 'brbg', 'brbb', 'brba', 'brar', 'brag', 'brab', 'braa', 'bgrr', 'bgrg', 'bgrb', 'bgra', 'bggr', 'bggg', 'bggb', 'bgga', 'bgbr', 'bgbg', 'bgbb', 'bgba', 'bgar', 'bgag', 'bgab', 'bgaa', 'bbrr', 'bbrg', 'bbrb', 'bbra', 'bbgr', 'bbgg', 'bbgb', 'bbga', 'bbbr', 'bbbg', 'bbbb', 'bbba', 'bbar', 'bbag', 'bbab', 'bbaa', 'barr', 'barg', 'barb', 'bara', 'bagr', 'bagg', 'bagb', 'baga', 'babr', 'babg', 'babb', 'baba', 'baar', 'baag', 'baab', 'baaa', 'arrr', 'arrg', 'arrb', 'arra', 'argr', 'argg', 'argb', 'arga', 'arbr', 'arbg', 'arbb', 'arba', 'arar', 'arag', 'arab', 'araa', 'agrr', 'agrg', 'agrb', 'agra', 'aggr', 'aggg', 'aggb', 'agga', 'agbr', 'agbg', 'agbb', 'agba', 'agar', 'agag', 'agab', 'agaa', 'abrr', 'abrg', 'abrb', 'abra', 'abgr', 'abgg', 'abgb', 'abga', 'abbr', 'abbg', 'abbb', 'abba', 'abar', 'abag', 'abab', 'abaa', 'aarr', 'aarg', 'aarb', 'aara', 'aagr', 'aagg', 'aagb', 'aaga', 'aabr', 'aabg', 'aabb', 'aaba', 'aaar', 'aaag', 'aaab', 'aaaa']\n"
     ]
    }
   ],
   "source": [
    "\n",
    "from itertools import product\n",
    "TABLE = {'x': 0, 'y': 1, 'z': 2, 'w': 3, 'r': 0, 'g': 1, 'b': 2, 'a': 3}\n",
    "\n",
    "PROPERTY = [''.join(prod) for prod in product('x', repeat=1)]\n",
    "PROPERTY += [''.join(prod) for prod in product('r', repeat=1)]\n",
    "PROPERTY += [''.join(prod) for prod in product('xy', repeat=2)]\n",
    "PROPERTY += [''.join(prod) for prod in product('rg', repeat=2)]\n",
    "PROPERTY += [''.join(prod) for prod in product('xyz', repeat=3)]\n",
    "PROPERTY += [''.join(prod) for prod in product('xyz', repeat=3)]\n",
    "PROPERTY += [''.join(prod) for prod in product('xyzw', repeat=4)]\n",
    "PROPERTY += [''.join(prod) for prod in product('rgba', repeat=4)]\n",
    "print(list(PROPERTY))"
   ]
  },
  {
   "cell_type": "code",
   "execution_count": 37,
   "metadata": {},
   "outputs": [
    {
     "data": {
      "text/plain": [
       "1"
      ]
     },
     "execution_count": 37,
     "metadata": {},
     "output_type": "execute_result"
    }
   ],
   "source": [
    "import numpy as np\n",
    "from multipledispatch import dispatch\n",
    "from numbers import Number\n",
    "from typing import Any\n",
    "from itertools import product\n",
    "TABLE = {'x': 0, 'y': 1, 'z': 2, 'w': 3, 'r': 0, 'g': 1, 'b': 2, 'a': 3}\n",
    "\n",
    "PROPERTY = [''.join(prod) for prod in product('x', repeat=1)]\n",
    "PROPERTY += [''.join(prod) for prod in product('r', repeat=1)]\n",
    "PROPERTY += [''.join(prod) for prod in product('xy', repeat=2)]\n",
    "PROPERTY += [''.join(prod) for prod in product('rg', repeat=2)]\n",
    "PROPERTY += [''.join(prod) for prod in product('xyz', repeat=3)]\n",
    "PROPERTY += [''.join(prod) for prod in product('xyz', repeat=3)]\n",
    "PROPERTY += [''.join(prod) for prod in product('xyzw', repeat=4)]\n",
    "PROPERTY += [''.join(prod) for prod in product('rgba', repeat=4)]\n",
    "\n",
    "class Vec2(np.ndarray):\n",
    "    __slots__ = [x for x in PROPERTY if len(x) <= 2]\n",
    "\n",
    "    def __new__(cls, input_array):\n",
    "        assert len(input_array) == 2\n",
    "        obj = np.asarray(input_array).view(cls)\n",
    "        return obj\n",
    "\n",
    "    def __getattribute__(self, __name: str) -> Any:\n",
    "        length = len(__name)\n",
    "        if 1 <= length <= 2 and all([x in 'xyrg' for x in __name]):\n",
    "            value = [self[TABLE[x]] for x in __name]\n",
    "            if length == 1:\n",
    "                return value[0]\n",
    "            if length == 2:\n",
    "                return Vec2(value)\n",
    "        return super().__getattribute__(__name)\n",
    "\n",
    "class Vec3(np.ndarray):\n",
    "    __slots__ = [x for x in PROPERTY if len(x) <= 3]\n",
    "\n",
    "    def __new__(cls, input_array):\n",
    "        assert len(input_array) == 3\n",
    "        obj = np.asarray(input_array).view(cls)\n",
    "        return obj\n",
    "\n",
    "    def __getattribute__(self, __name: str) -> Any:\n",
    "        length = len(__name)\n",
    "        if 1 <= length <= 3 and all([x in 'xyzrgb' for x in __name]):\n",
    "            value = [self[TABLE[x]] for x in __name]\n",
    "            if length == 1:\n",
    "                return value[0]\n",
    "            if length == 2:\n",
    "                return Vec2(value)\n",
    "            if length == 3:\n",
    "                return Vec3(value)\n",
    "        return super().__getattribute__(__name)\n",
    "\n",
    "v = Vec3([3, 2, 1])\n",
    "v.z"
   ]
  },
  {
   "cell_type": "code",
   "execution_count": 123,
   "metadata": {},
   "outputs": [
    {
     "name": "stdout",
     "output_type": "stream",
     "text": [
      "bar\n"
     ]
    }
   ],
   "source": [
    "import numpy as np\n",
    "from multipledispatch import dispatch\n",
    "class Vec3(np.ndarray):\n",
    "    def __new__(cls, input_array):\n",
    "        assert len(input_array) == 3\n",
    "        obj = np.asarray(input_array).view(cls)\n",
    "        return obj\n",
    "    \n",
    "    @dispatch(int)\n",
    "    def foo(self, a):\n",
    "        print('foo')\n",
    "    @dispatch(float)\n",
    "    def foo(self, a):\n",
    "        print('bar')\n",
    "\n",
    "Vec3([3, 2, 1]).foo(3.2)"
   ]
  },
  {
   "cell_type": "code",
   "execution_count": 121,
   "metadata": {},
   "outputs": [
    {
     "name": "stdout",
     "output_type": "stream",
     "text": [
      "ex 3 >  6\n",
      "ex 3 >  24\n",
      "ex 3 >  6.0\n"
     ]
    }
   ],
   "source": [
    "class SampleC(np.ndarray):\n",
    "    @dispatch(int,int)\n",
    "    def product(x, y):\n",
    "        return x * y\n",
    "    \n",
    "    @dispatch(int,int,int)\n",
    "    def product(x, y ,z):\n",
    "        return x * y * z\n",
    "\n",
    "    @dispatch(float,float)\n",
    "    def product(x, y):\n",
    "        return x * y\n",
    "\n",
    "c = SampleC(3)\n",
    "\n",
    "# 정수 파라미터 두개\n",
    "print('ex 3 > ',c.product(2, 3))\n",
    "# 정수 파라미터 세개\n",
    "print('ex 3 > ',c.product(2, 3, 4))\n",
    "# 실수 파라미터 두개\n",
    "print('ex 3 > ',c.product(2.0, 3.0))"
   ]
  },
  {
   "cell_type": "code",
   "execution_count": 95,
   "metadata": {},
   "outputs": [],
   "source": [
    "import numpy as np\n",
    "\n",
    "class MySubClass(np.ndarray):\n",
    "\n",
    "    def __new__(cls, input_array, info=None):\n",
    "        obj = np.asarray(input_array).view(cls)\n",
    "        obj.info = info\n",
    "        return obj\n",
    "\n",
    "    def __array_finalize__(self, obj):\n",
    "        print('In __array_finalize__:')\n",
    "        print('   self is %s' % repr(self))\n",
    "        print('   obj is %s' % repr(obj))\n",
    "        if obj is None: return\n",
    "        self.info = getattr(obj, 'info', None)\n",
    "\n",
    "    def __array_wrap__(self, out_arr, context=None):\n",
    "        print('In __array_wrap__:')\n",
    "        print('   self is %s' % repr(self))\n",
    "        print('   arr is %s' % repr(out_arr))\n",
    "        # then just call the parent\n",
    "        return super().__array_wrap__(self, out_arr, context)"
   ]
  },
  {
   "cell_type": "code",
   "execution_count": 48,
   "metadata": {},
   "outputs": [
    {
     "data": {
      "text/plain": [
       "True"
      ]
     },
     "execution_count": 48,
     "metadata": {},
     "output_type": "execute_result"
    }
   ],
   "source": [
    "np.array([3, 2]).any()"
   ]
  }
 ],
 "metadata": {
  "kernelspec": {
   "display_name": "Python 3.7.9 ('.venv': poetry)",
   "language": "python",
   "name": "python3"
  },
  "language_info": {
   "codemirror_mode": {
    "name": "ipython",
    "version": 3
   },
   "file_extension": ".py",
   "mimetype": "text/x-python",
   "name": "python",
   "nbconvert_exporter": "python",
   "pygments_lexer": "ipython3",
   "version": "3.7.9"
  },
  "orig_nbformat": 4,
  "vscode": {
   "interpreter": {
    "hash": "7aa065f75de1d0f3bc00e6ee6c864e8e1a445693bdccd86d8bc3e1cd0d431d1f"
   }
  }
 },
 "nbformat": 4,
 "nbformat_minor": 2
}
