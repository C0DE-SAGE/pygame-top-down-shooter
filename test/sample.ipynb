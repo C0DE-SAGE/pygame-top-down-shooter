{
 "cells": [
  {
   "cell_type": "code",
   "execution_count": 1,
   "metadata": {},
   "outputs": [
    {
     "name": "stdout",
     "output_type": "stream",
     "text": [
      "pygame 2.1.2 (SDL 2.0.18, Python 3.8.8)\n",
      "Hello from the pygame community. https://www.pygame.org/contribute.html\n"
     ]
    },
    {
     "ename": "SystemExit",
     "evalue": "",
     "output_type": "error",
     "traceback": [
      "An exception has occurred, use %tb to see the full traceback.\n",
      "\u001b[1;31mSystemExit\u001b[0m\n"
     ]
    },
    {
     "name": "stderr",
     "output_type": "stream",
     "text": [
      "c:\\Users\\kland\\anaconda3\\lib\\site-packages\\IPython\\core\\interactiveshell.py:3445: UserWarning: To exit: use 'exit', 'quit', or Ctrl-D.\n",
      "  warn(\"To exit: use 'exit', 'quit', or Ctrl-D.\", stacklevel=1)\n"
     ]
    },
    {
     "ename": "",
     "evalue": "",
     "output_type": "error",
     "traceback": [
      "현재 셀 또는 이전 셀에서 코드를 실행하는 동안 Kernel이 충돌했습니다. 셀의 코드를 검토하여 오류의 가능한 원인을 식별하세요. 자세한 내용을 보려면 <a href='https://aka.ms/vscodeJupyterKernelCrash'> 여기 </a> 를 클릭하세요. 자세한 내용은 Jupyter <a href='command:jupyter.viewOutput'>로그</a>를 참조하세요."
     ]
    }
   ],
   "source": [
    "from dis import dis\n",
    "from turtle import speed\n",
    "import pygame\n",
    "import sys\n",
    "import math\n",
    "\n",
    "pygame.init()\n",
    "\n",
    "display = pygame.display.set_mode((800,600))\n",
    "clock = pygame.time.Clock()\n",
    "\n",
    "class Player:\n",
    "    '''\n",
    "    player setting\n",
    "    '''\n",
    "    def __init__(self, x, y, width, height, health):\n",
    "        self.x = x\n",
    "        self.y = y\n",
    "        self.width = width\n",
    "        self.height = height\n",
    "        self.health = health\n",
    "    def main(self, display):\n",
    "        pygame.draw.rect(display, (255,0,0), (self.x, self.y, self.width, self.height))\n",
    "\n",
    "\n",
    "\n",
    "class Enemy:\n",
    "    '''\n",
    "    Enemy setting\n",
    "    '''\n",
    "    def __init__(self, x, y, width, height, health):\n",
    "        self.x = x\n",
    "        self.y = y\n",
    "        self.speed = 2\n",
    "        self.width = width\n",
    "        self.height = height\n",
    "        self.health = health\n",
    "    def main(self, display, player):\n",
    "        pygame.draw.rect(display, (0,0,255), (display_scroll[0], display_scroll[1], self.width, self.height))\n",
    "\n",
    "\n",
    "\n",
    "class PlayerBullet:\n",
    "    '''\n",
    "    Player bullet(attack)\n",
    "    '''\n",
    "    def __init__(self, x, y, mouse_x, mouse_y):\n",
    "        self.x = x\n",
    "        self.y = y\n",
    "        self.mouse_x = mouse_x\n",
    "        self.mouse_y = mouse_y\n",
    "        self.speed = 15\n",
    "        self.angle = math.atan2(y-mouse_y, x-mouse_x)\n",
    "        self.x_vel = self.speed * math.cos(self.angle)\n",
    "        self.y_vel = self.speed * math.sin(self.angle)\n",
    "    def main(self, display):\n",
    "        self.x -= int(self.x_vel)\n",
    "        self.y -= int(self.y_vel)\n",
    "\n",
    "        pygame.draw.circle(display, (0,0,0), (self.x, self.y), 5)\n",
    "\n",
    "player = Player(400,300,32,32,120)      #x,y,width, height, health\n",
    "\n",
    "enemy = Enemy(400,30,32,32,10)\n",
    "\n",
    "display_scroll = [0,0]\n",
    "\n",
    "player_bullets = []\n",
    "\n",
    "while True: \n",
    "    display.fill((24,186,32))\n",
    "    \n",
    "    pygame.draw.rect(display, (255,0,0),(10,10, 250,5))\n",
    "    pygame.draw.rect(display, (0,255,0),(10,10, player.health,5))\n",
    "\n",
    "    mouse_x, mouse_y = pygame.mouse.get_pos()\n",
    "\n",
    "    for event in pygame.event.get():\n",
    "        if event.type == pygame.QUIT:\n",
    "            sys.exit()\n",
    "            pygame.QUIT\n",
    "        \n",
    "        if event.type == pygame.MOUSEBUTTONDOWN:\n",
    "            if event.button == 1:\n",
    "                player_bullets.append(PlayerBullet((player.x*2+player.width)/2, (player.y*2+player.height)/2, mouse_x, mouse_y))\n",
    "\n",
    "    keys = pygame.key.get_pressed()\n",
    "\n",
    "    pygame.draw.rect(display, (255,255,255),(100-display_scroll[0],100-display_scroll[1],16,16))\n",
    "\n",
    "    if keys[pygame.K_a]:\n",
    "        display_scroll[0] -= 5\n",
    "\n",
    "        for bullet in player_bullets:\n",
    "            bullet.x += 5\n",
    "    if keys[pygame.K_d]:\n",
    "        display_scroll[0] += 5\n",
    "\n",
    "        for bullet in player_bullets:\n",
    "            bullet.x -= 5\n",
    "    if keys[pygame.K_w]:\n",
    "        display_scroll[1] -= 5\n",
    "\n",
    "        for bullet in player_bullets:\n",
    "            bullet.y += 5\n",
    "    if keys[pygame.K_s]:\n",
    "        display_scroll[1] += 5\n",
    "\n",
    "        for bullet in player_bullets:\n",
    "            bullet.y -= 5\n",
    "\n",
    "    player.main(display)\n",
    "    enemy.main(display,player)\n",
    "\n",
    "    for bullet in player_bullets:\n",
    "        bullet.main(display)\n",
    "\n",
    "    clock.tick(60)\n",
    "    pygame.display.update()"
   ]
  },
  {
   "cell_type": "code",
   "execution_count": null,
   "metadata": {},
   "outputs": [
    {
     "name": "stdout",
     "output_type": "stream",
     "text": [
      "2.38648825011112 -10.922999890392045 10.280470485074863 <class 'float'> <class 'float'>\n"
     ]
    },
    {
     "ename": "",
     "evalue": "",
     "output_type": "error",
     "traceback": [
      "\u001b[1;31m현재 셀 또는 이전 셀에서 코드를 실행하는 동안 Kernel이 충돌했습니다. 셀의 코드를 검토하여 오류의 가능한 원인을 식별하세요. 자세한 내용을 보려면 <a href='https://aka.ms/vscodeJupyterKernelCrash'> 여기 </a> 를 클릭하세요. 자세한 내용은 Jupyter <a href='command:jupyter.viewOutput'>로그</a>를 참조하세요."
     ]
    }
   ],
   "source": [
    "x = 400 \n",
    "y = 300 \n",
    "mouse_x = 434\n",
    "mouse_y = 268\n",
    "speed = 15\n",
    "angle = math.atan2(y-mouse_y, x-mouse_x)\n",
    "x_vel =  math.cos(angle) * speed\n",
    "y_vel = speed * math.sin(angle)\n",
    "print(angle, x_vel,y_vel, type(angle), type(x_vel))"
   ]
  },
  {
   "cell_type": "code",
   "execution_count": 1,
   "metadata": {},
   "outputs": [],
   "source": [
    "class A:\n",
    "    pass\n",
    "a = A()\n"
   ]
  },
  {
   "cell_type": "code",
   "execution_count": 8,
   "metadata": {},
   "outputs": [
    {
     "data": {
      "text/plain": [
       "False"
      ]
     },
     "execution_count": 8,
     "metadata": {},
     "output_type": "execute_result"
    }
   ],
   "source": [
    "isinstance(a, type)"
   ]
  },
  {
   "cell_type": "code",
   "execution_count": 21,
   "metadata": {},
   "outputs": [
    {
     "data": {
      "text/plain": [
       "False"
      ]
     },
     "execution_count": 21,
     "metadata": {},
     "output_type": "execute_result"
    }
   ],
   "source": [
    "import collections\n",
    "import pygame\n",
    "a = pygame.sprite.Group()\n",
    "a.add(pygame.sprite.Sprite())\n",
    "a.add(pygame.sprite.Sprite())\n",
    "isinstance(a, collections.Sequence)"
   ]
  },
  {
   "cell_type": "code",
   "execution_count": 37,
   "metadata": {},
   "outputs": [
    {
     "data": {
      "text/plain": [
       "(3, 2)"
      ]
     },
     "execution_count": 37,
     "metadata": {},
     "output_type": "execute_result"
    }
   ],
   "source": [
    "a = 3\n",
    "b = 2\n",
    "for i in [a, b]:\n",
    "    i += 3\n",
    "a, b"
   ]
  },
  {
   "cell_type": "code",
   "execution_count": 38,
   "metadata": {},
   "outputs": [
    {
     "data": {
      "text/plain": [
       "1.0"
      ]
     },
     "execution_count": 38,
     "metadata": {},
     "output_type": "execute_result"
    }
   ],
   "source": [
    "a = 3.0\n",
    "b = 2.0\n",
    "a // b"
   ]
  },
  {
   "cell_type": "code",
   "execution_count": 42,
   "metadata": {},
   "outputs": [
    {
     "data": {
      "text/plain": [
       "(<Vector2(4, 3)>, <Vector2(1, 2)>, <Vector2(1, 2)>, <Vector2(1, 2)>)"
      ]
     },
     "execution_count": 42,
     "metadata": {},
     "output_type": "execute_result"
    }
   ],
   "source": [
    "from copy import copy, deepcopy\n",
    "import pygame\n",
    "a = pygame.math.Vector2(1, 2)\n",
    "b = a\n",
    "c = copy(a)\n",
    "d = deepcopy(a)\n",
    "e = pygame.math.Vector2(a)\n",
    "\n",
    "a.xy = (4, 3)\n",
    "b, c, d, e"
   ]
  },
  {
   "cell_type": "code",
   "execution_count": 47,
   "metadata": {},
   "outputs": [
    {
     "data": {
      "text/plain": [
       "3"
      ]
     },
     "execution_count": 47,
     "metadata": {},
     "output_type": "execute_result"
    }
   ],
   "source": [
    "class A:\n",
    "    def __init__(self):\n",
    "        self.x = 3\n",
    "\n",
    "class B(A):\n",
    "    def __init__(self):\n",
    "        super().__init__()\n",
    "        self.y = 2\n",
    "\n",
    "b = B()\n",
    "b.x"
   ]
  },
  {
   "cell_type": "code",
   "execution_count": 54,
   "metadata": {},
   "outputs": [],
   "source": [
    "a = pygame.math.Vector2(0, 0.0)\n",
    "if a:\n",
    "    print('ASFD')"
   ]
  },
  {
   "cell_type": "code",
   "execution_count": 62,
   "metadata": {},
   "outputs": [
    {
     "data": {
      "text/plain": [
       "<Vector2(0, 0)>"
      ]
     },
     "execution_count": 62,
     "metadata": {},
     "output_type": "execute_result"
    }
   ],
   "source": [
    "a = pygame.math.Vector2(0, 2)\n",
    "a.scale_to_length(0) if a else a\n",
    "a"
   ]
  },
  {
   "cell_type": "code",
   "execution_count": 6,
   "metadata": {},
   "outputs": [
    {
     "name": "stdout",
     "output_type": "stream",
     "text": [
      "-0b10000000000000000000000000000000\n",
      "0b1000000000000000000000000000000\n",
      "0b1\n",
      "0b10\n",
      "0b10000\n",
      "0b1000000000\n",
      "0b1000000\n",
      "0b10000000\n",
      "0b100000\n"
     ]
    }
   ],
   "source": [
    "import pygame\n",
    "from pygame.locals import *\n",
    "\n",
    "print(bin(FULLSCREEN))\n",
    "print(bin(DOUBLEBUF))\n",
    "print(bin(HWSURFACE))\n",
    "print(bin(OPENGL))\n",
    "print(bin(RESIZABLE))\n",
    "print(bin(NOFRAME))\n",
    "print(bin(SCALED))\n",
    "print(bin(SHOWN))\n",
    "print(bin(HIDDEN))"
   ]
  },
  {
   "cell_type": "code",
   "execution_count": 1,
   "metadata": {},
   "outputs": [
    {
     "name": "stdout",
     "output_type": "stream",
     "text": [
      "pygame 2.1.2 (SDL 2.0.18, Python 3.7.9)\n",
      "Hello from the pygame community. https://www.pygame.org/contribute.html\n"
     ]
    },
    {
     "ename": "GLError",
     "evalue": "GLError(\n\terr = 1282,\n\tdescription = b'invalid operation',\n\tbaseOperation = glRotatef,\n\tcArguments = (1, 1, 1, 1)\n)",
     "output_type": "error",
     "traceback": [
      "\u001b[1;31m---------------------------------------------------------------------------\u001b[0m",
      "\u001b[1;31mGLError\u001b[0m                                   Traceback (most recent call last)",
      "\u001b[1;32m~\\AppData\\Local\\Temp\\ipykernel_15268\\3870037610.py\u001b[0m in \u001b[0;36m<module>\u001b[1;34m\u001b[0m\n\u001b[0;32m     46\u001b[0m \u001b[1;33m\u001b[0m\u001b[0m\n\u001b[0;32m     47\u001b[0m \u001b[1;32mif\u001b[0m \u001b[0m__name__\u001b[0m \u001b[1;33m==\u001b[0m \u001b[1;34m\"__main__\"\u001b[0m\u001b[1;33m:\u001b[0m\u001b[1;33m\u001b[0m\u001b[1;33m\u001b[0m\u001b[0m\n\u001b[1;32m---> 48\u001b[1;33m     \u001b[0mmain\u001b[0m\u001b[1;33m(\u001b[0m\u001b[1;33m)\u001b[0m\u001b[1;33m\u001b[0m\u001b[1;33m\u001b[0m\u001b[0m\n\u001b[0m",
      "\u001b[1;32m~\\AppData\\Local\\Temp\\ipykernel_15268\\3870037610.py\u001b[0m in \u001b[0;36mmain\u001b[1;34m()\u001b[0m\n\u001b[0;32m     38\u001b[0m                 \u001b[0mquit\u001b[0m\u001b[1;33m(\u001b[0m\u001b[1;33m)\u001b[0m\u001b[1;33m\u001b[0m\u001b[1;33m\u001b[0m\u001b[0m\n\u001b[0;32m     39\u001b[0m \u001b[1;33m\u001b[0m\u001b[0m\n\u001b[1;32m---> 40\u001b[1;33m         \u001b[0mglRotatef\u001b[0m\u001b[1;33m(\u001b[0m\u001b[1;36m1\u001b[0m\u001b[1;33m,\u001b[0m \u001b[1;36m1\u001b[0m\u001b[1;33m,\u001b[0m \u001b[1;36m1\u001b[0m\u001b[1;33m,\u001b[0m \u001b[1;36m1\u001b[0m\u001b[1;33m)\u001b[0m\u001b[1;33m\u001b[0m\u001b[1;33m\u001b[0m\u001b[0m\n\u001b[0m\u001b[0;32m     41\u001b[0m         \u001b[0mglClear\u001b[0m\u001b[1;33m(\u001b[0m\u001b[0mGL_COLOR_BUFFER_BIT\u001b[0m\u001b[1;33m|\u001b[0m\u001b[0mGL_DEPTH_BUFFER_BIT\u001b[0m\u001b[1;33m)\u001b[0m\u001b[1;33m\u001b[0m\u001b[1;33m\u001b[0m\u001b[0m\n\u001b[0;32m     42\u001b[0m         \u001b[1;31m# solidCube()\u001b[0m\u001b[1;33m\u001b[0m\u001b[1;33m\u001b[0m\u001b[1;33m\u001b[0m\u001b[0m\n",
      "\u001b[1;32msrc/errorchecker.pyx\u001b[0m in \u001b[0;36mOpenGL_accelerate.errorchecker._ErrorChecker.glCheckError\u001b[1;34m()\u001b[0m\n",
      "\u001b[1;31mGLError\u001b[0m: GLError(\n\terr = 1282,\n\tdescription = b'invalid operation',\n\tbaseOperation = glRotatef,\n\tcArguments = (1, 1, 1, 1)\n)"
     ]
    },
    {
     "ename": "",
     "evalue": "",
     "output_type": "error",
     "traceback": [
      "현재 셀 또는 이전 셀에서 코드를 실행하는 동안 Kernel이 충돌했습니다. 셀의 코드를 검토하여 오류의 가능한 원인을 식별하세요. 자세한 내용을 보려면 <a href='https://aka.ms/vscodeJupyterKernelCrash'> 여기 </a> 를 클릭하세요. 자세한 내용은 Jupyter <a href='command:jupyter.viewOutput'>로그</a>를 참조하세요."
     ]
    }
   ],
   "source": [
    "import pygame as pg\n",
    "from pygame.locals import *\n",
    "\n",
    "from OpenGL.GL import *\n",
    "from OpenGL.GLU import *\n",
    "\n",
    "cubeVertices = ((1,1,1),(1,1,-1),(1,-1,-1),(1,-1,1),(-1,1,1),(-1,-1,-1),(-1,-1,1),(-1,1,-1))\n",
    "cubeEdges = ((0,1),(0,3),(0,4),(1,2),(1,7),(2,5),(2,3),(3,6),(4,6),(4,7),(5,6),(5,7))\n",
    "cubeQuads = ((0,3,6,4),(2,5,6,3),(1,2,5,7),(1,0,4,7),(7,4,6,5),(2,3,0,1))\n",
    "\n",
    "def wireCube():\n",
    "    glBegin(GL_LINES)\n",
    "    for cubeEdge in cubeEdges:\n",
    "        for cubeVertex in cubeEdge:\n",
    "            glVertex3fv(cubeVertices[cubeVertex])\n",
    "    glEnd()\n",
    "\n",
    "def solidCube():\n",
    "    glBegin(GL_QUADS)\n",
    "    for cubeQuad in cubeQuads:\n",
    "        for cubeVertex in cubeQuad:\n",
    "            glVertex3fv(cubeVertices[cubeVertex])\n",
    "    glEnd()\n",
    "\n",
    "def main():\n",
    "    pg.init()\n",
    "    display = (1680, 1050)\n",
    "    pg.display.set_mode(display, DOUBLEBUF|OPENGL)\n",
    "\n",
    "    gluPerspective(45, (display[0]/display[1]), 0.1, 50.0)\n",
    "\n",
    "    glTranslatef(0.0, 0.0, -5)\n",
    "\n",
    "    while True:\n",
    "        for event in pg.event.get():\n",
    "            if event.type == pg.QUIT:\n",
    "                pg.quit()\n",
    "                quit()\n",
    "\n",
    "        glRotatef(1, 1, 1, 1)\n",
    "        glClear(GL_COLOR_BUFFER_BIT|GL_DEPTH_BUFFER_BIT)\n",
    "        # solidCube()\n",
    "        wireCube()\n",
    "        pg.display.flip()\n",
    "        pg.time.wait(10)\n",
    "\n",
    "if __name__ == \"__main__\":\n",
    "    main()"
   ]
  },
  {
   "cell_type": "code",
   "execution_count": 5,
   "metadata": {},
   "outputs": [
    {
     "data": {
      "text/plain": [
       "<bound method b2ContactManager_AddPair of b2ContactManager(allocator=None,\n",
       "                 broadPhase=proxyCount=0,),\n",
       "                 contactCount=0,\n",
       "                 contactFilter=b2ContactFilter(),\n",
       "                 contactList=None,\n",
       "                 contactListener=b2ContactListener(),\n",
       "                 )>"
      ]
     },
     "execution_count": 5,
     "metadata": {},
     "output_type": "execute_result"
    }
   ],
   "source": [
    "import Box2D\n",
    "\n",
    "b = Box2D.b2ContactManager()\n"
   ]
  },
  {
   "cell_type": "code",
   "execution_count": null,
   "metadata": {},
   "outputs": [],
   "source": [
    "import moderngl"
   ]
  },
  {
   "cell_type": "code",
   "execution_count": 2,
   "metadata": {},
   "outputs": [],
   "source": [
    "class A:\n",
    "    _a = []\n",
    "    for i in range(100):\n",
    "        _a.append(i)"
   ]
  },
  {
   "cell_type": "code",
   "execution_count": 3,
   "metadata": {},
   "outputs": [
    {
     "data": {
      "text/plain": [
       "[0,\n",
       " 1,\n",
       " 2,\n",
       " 3,\n",
       " 4,\n",
       " 5,\n",
       " 6,\n",
       " 7,\n",
       " 8,\n",
       " 9,\n",
       " 10,\n",
       " 11,\n",
       " 12,\n",
       " 13,\n",
       " 14,\n",
       " 15,\n",
       " 16,\n",
       " 17,\n",
       " 18,\n",
       " 19,\n",
       " 20,\n",
       " 21,\n",
       " 22,\n",
       " 23,\n",
       " 24,\n",
       " 25,\n",
       " 26,\n",
       " 27,\n",
       " 28,\n",
       " 29,\n",
       " 30,\n",
       " 31,\n",
       " 32,\n",
       " 33,\n",
       " 34,\n",
       " 35,\n",
       " 36,\n",
       " 37,\n",
       " 38,\n",
       " 39,\n",
       " 40,\n",
       " 41,\n",
       " 42,\n",
       " 43,\n",
       " 44,\n",
       " 45,\n",
       " 46,\n",
       " 47,\n",
       " 48,\n",
       " 49,\n",
       " 50,\n",
       " 51,\n",
       " 52,\n",
       " 53,\n",
       " 54,\n",
       " 55,\n",
       " 56,\n",
       " 57,\n",
       " 58,\n",
       " 59,\n",
       " 60,\n",
       " 61,\n",
       " 62,\n",
       " 63,\n",
       " 64,\n",
       " 65,\n",
       " 66,\n",
       " 67,\n",
       " 68,\n",
       " 69,\n",
       " 70,\n",
       " 71,\n",
       " 72,\n",
       " 73,\n",
       " 74,\n",
       " 75,\n",
       " 76,\n",
       " 77,\n",
       " 78,\n",
       " 79,\n",
       " 80,\n",
       " 81,\n",
       " 82,\n",
       " 83,\n",
       " 84,\n",
       " 85,\n",
       " 86,\n",
       " 87,\n",
       " 88,\n",
       " 89,\n",
       " 90,\n",
       " 91,\n",
       " 92,\n",
       " 93,\n",
       " 94,\n",
       " 95,\n",
       " 96,\n",
       " 97,\n",
       " 98,\n",
       " 99]"
      ]
     },
     "execution_count": 3,
     "metadata": {},
     "output_type": "execute_result"
    }
   ],
   "source": [
    "A._a"
   ]
  },
  {
   "cell_type": "code",
   "execution_count": 11,
   "metadata": {},
   "outputs": [
    {
     "name": "stdout",
     "output_type": "stream",
     "text": [
      "Class assignment\n",
      "Instance assignment\n",
      "Instance assignment\n"
     ]
    },
    {
     "data": {
      "text/plain": [
       "<__main__.Foo at 0x22bc2a30d08>"
      ]
     },
     "execution_count": 11,
     "metadata": {},
     "output_type": "execute_result"
    }
   ],
   "source": [
    "\n",
    "\n",
    "class Bar(object):\n",
    "\n",
    "    def __init__(self, x):\n",
    "        self.x = x\n",
    "\n",
    "    def called_class():\n",
    "        print (\"Class assignment\")\n",
    "        return 2\n",
    "    \n",
    "    y = called_class()\n",
    "\n",
    "## \"Class assignment\"\n",
    "\n",
    "def called_instance():\n",
    "    print (\"Instance assignment\")\n",
    "    return 2\n",
    "\n",
    "class Foo(object):\n",
    "    def __init__(self, x):\n",
    "        self.y = called_instance()\n",
    "        self.x = x\n",
    "\n",
    "Bar(1)\n",
    "Bar(2)\n",
    "Foo(1)\n",
    "## \"Instance assignment\"\n",
    "Foo(2)\n",
    "## \"Instance assignment\""
   ]
  },
  {
   "cell_type": "code",
   "execution_count": null,
   "metadata": {},
   "outputs": [],
   "source": [
    "import Box2D\n",
    "Box2D.b2Body().conta"
   ]
  },
  {
   "cell_type": "code",
   "execution_count": null,
   "metadata": {},
   "outputs": [],
   "source": [
    "Box2D.Box2D.b2ContactEdge().contact\n",
    "Box2D.Box2D.b2Contact()."
   ]
  },
  {
   "cell_type": "code",
   "execution_count": 5,
   "metadata": {},
   "outputs": [
    {
     "data": {
      "text/plain": [
       "b2FixtureDef(categoryBits=1,\n",
       "             density=0.0,\n",
       "             filter=categoryBits=1,groupIndex=0,maskBits=65535,),\n",
       "             friction=0.20000000298023224,\n",
       "             groupIndex=0,\n",
       "             isSensor=False,\n",
       "             maskBits=65535,\n",
       "             restitution=0.0,\n",
       "             shape=None,\n",
       "             userData=None,\n",
       "             )"
      ]
     },
     "execution_count": 5,
     "metadata": {},
     "output_type": "execute_result"
    }
   ],
   "source": [
    "Box2D.b2FixtureDef()"
   ]
  },
  {
   "cell_type": "code",
   "execution_count": 16,
   "metadata": {},
   "outputs": [
    {
     "data": {
      "text/plain": [
       "b2FixtureDef(categoryBits=65535,\n",
       "             density=1.0,\n",
       "             filter=categoryBits=65535,groupIndex=0,maskBits=65535,),\n",
       "             friction=0.20000000298023224,\n",
       "             groupIndex=0,\n",
       "             isSensor=False,\n",
       "             maskBits=65535,\n",
       "             restitution=0.0,\n",
       "             shape=b2PolygonShape(vertices: []),\n",
       "             userData=None,\n",
       "             )"
      ]
     },
     "execution_count": 16,
     "metadata": {},
     "output_type": "execute_result"
    }
   ],
   "source": [
    "import Box2D\n",
    "Box2D.b2FixtureDef(density=1.0, shape=Box2D.b2PolygonShape(), categoryBits=0xFFFF)"
   ]
  },
  {
   "cell_type": "code",
   "execution_count": 37,
   "metadata": {},
   "outputs": [
    {
     "data": {
      "text/plain": [
       "b2Vec2(0,0)"
      ]
     },
     "execution_count": 37,
     "metadata": {},
     "output_type": "execute_result"
    }
   ],
   "source": [
    "Box2D.b2Vec2()."
   ]
  },
  {
   "cell_type": "code",
   "execution_count": 44,
   "metadata": {},
   "outputs": [
    {
     "data": {
      "text/plain": [
       "33.690067525979785"
      ]
     },
     "execution_count": 44,
     "metadata": {},
     "output_type": "execute_result"
    }
   ],
   "source": [
    "import pygame\n",
    "a = pygame.math.Vector2(3, 2)\n",
    "pygame.math.Vector2().angle_to(a)"
   ]
  },
  {
   "cell_type": "code",
   "execution_count": 53,
   "metadata": {},
   "outputs": [],
   "source": [
    "class A:\n",
    "    a = 3\n",
    "\n",
    "a = [A() for i in range(2)]\n"
   ]
  },
  {
   "cell_type": "code",
   "execution_count": 54,
   "metadata": {},
   "outputs": [
    {
     "data": {
      "text/plain": [
       "<__main__.A at 0x28f0153e7c8>"
      ]
     },
     "execution_count": 54,
     "metadata": {},
     "output_type": "execute_result"
    }
   ],
   "source": [
    "b = A()\n",
    "b.a = 42\n",
    "a.append(b)\n",
    "b"
   ]
  },
  {
   "cell_type": "code",
   "execution_count": 55,
   "metadata": {},
   "outputs": [
    {
     "name": "stdout",
     "output_type": "stream",
     "text": [
      "[<__main__.A object at 0x0000028F01566A48>, <__main__.A object at 0x0000028F01566B88>, <__main__.A object at 0x0000028F0153E7C8>]\n"
     ]
    }
   ],
   "source": [
    "print(a)"
   ]
  },
  {
   "cell_type": "code",
   "execution_count": 56,
   "metadata": {},
   "outputs": [],
   "source": [
    "del b"
   ]
  },
  {
   "cell_type": "code",
   "execution_count": 57,
   "metadata": {},
   "outputs": [
    {
     "name": "stdout",
     "output_type": "stream",
     "text": [
      "[<__main__.A object at 0x0000028F01566A48>, <__main__.A object at 0x0000028F01566B88>, <__main__.A object at 0x0000028F0153E7C8>]\n"
     ]
    }
   ],
   "source": [
    "print(a)"
   ]
  },
  {
   "cell_type": "code",
   "execution_count": 60,
   "metadata": {},
   "outputs": [
    {
     "ename": "NameError",
     "evalue": "name 'b' is not defined",
     "output_type": "error",
     "traceback": [
      "\u001b[1;31m---------------------------------------------------------------------------\u001b[0m",
      "\u001b[1;31mNameError\u001b[0m                                 Traceback (most recent call last)",
      "\u001b[1;32m~\\AppData\\Local\\Temp\\ipykernel_3916\\1685013873.py\u001b[0m in \u001b[0;36m<module>\u001b[1;34m\u001b[0m\n\u001b[1;32m----> 1\u001b[1;33m \u001b[0mb\u001b[0m\u001b[1;33m\u001b[0m\u001b[1;33m\u001b[0m\u001b[0m\n\u001b[0m",
      "\u001b[1;31mNameError\u001b[0m: name 'b' is not defined"
     ]
    }
   ],
   "source": [
    "b"
   ]
  },
  {
   "cell_type": "code",
   "execution_count": 61,
   "metadata": {},
   "outputs": [
    {
     "data": {
      "text/plain": [
       "42"
      ]
     },
     "execution_count": 61,
     "metadata": {},
     "output_type": "execute_result"
    }
   ],
   "source": [
    "a[2].a"
   ]
  },
  {
   "cell_type": "code",
   "execution_count": null,
   "metadata": {},
   "outputs": [],
   "source": [
    "Box2D.Box2D.b2Transform()."
   ]
  },
  {
   "cell_type": "code",
   "execution_count": 78,
   "metadata": {},
   "outputs": [],
   "source": [
    "vshader = \"\"\"\n",
    "#version 330\n",
    "in vec2 in_position;\n",
    "in vec2 in_uv;\n",
    "out vec2 v_uv;\n",
    "void main()\n",
    "{\n",
    "    v_uv = in_uv;\n",
    "    gl_Position = vec4(in_position, 0.0, 1.0);\n",
    "}\n",
    "\"\"\"\n",
    "import moderngl\n",
    "cfx = moderngl.create_context(standalone=True)\n",
    "program1 = cfx.program(vertex_shader=vshader)"
   ]
  },
  {
   "cell_type": "code",
   "execution_count": 80,
   "metadata": {},
   "outputs": [
    {
     "ename": "KeyError",
     "evalue": "'in_uv'",
     "output_type": "error",
     "traceback": [
      "\u001b[1;31m---------------------------------------------------------------------------\u001b[0m",
      "\u001b[1;31mKeyError\u001b[0m                                  Traceback (most recent call last)",
      "\u001b[1;32m~\\AppData\\Local\\Temp\\ipykernel_14020\\3506581540.py\u001b[0m in \u001b[0;36m<module>\u001b[1;34m\u001b[0m\n\u001b[1;32m----> 1\u001b[1;33m \u001b[0mprogram1\u001b[0m\u001b[1;33m[\u001b[0m\u001b[1;34m'in_uv'\u001b[0m\u001b[1;33m]\u001b[0m\u001b[1;33m\u001b[0m\u001b[1;33m\u001b[0m\u001b[0m\n\u001b[0m",
      "\u001b[1;32md:\\Coding\\pygame-top-down-shooter\\.venv\\lib\\site-packages\\moderngl\\program.py\u001b[0m in \u001b[0;36m__getitem__\u001b[1;34m(self, key)\u001b[0m\n\u001b[0;32m     74\u001b[0m             \u001b[0mprogram\u001b[0m\u001b[1;33m[\u001b[0m\u001b[1;34m'color'\u001b[0m\u001b[1;33m]\u001b[0m\u001b[1;33m.\u001b[0m\u001b[0mwrite\u001b[0m\u001b[1;33m(\u001b[0m\u001b[0mbuffer\u001b[0m\u001b[1;33m)\u001b[0m\u001b[1;33m\u001b[0m\u001b[1;33m\u001b[0m\u001b[0m\n\u001b[0;32m     75\u001b[0m         \"\"\"\n\u001b[1;32m---> 76\u001b[1;33m         \u001b[1;32mreturn\u001b[0m \u001b[0mself\u001b[0m\u001b[1;33m.\u001b[0m\u001b[0m_members\u001b[0m\u001b[1;33m[\u001b[0m\u001b[0mkey\u001b[0m\u001b[1;33m]\u001b[0m\u001b[1;33m\u001b[0m\u001b[1;33m\u001b[0m\u001b[0m\n\u001b[0m\u001b[0;32m     77\u001b[0m \u001b[1;33m\u001b[0m\u001b[0m\n\u001b[0;32m     78\u001b[0m     \u001b[1;32mdef\u001b[0m \u001b[0m__setitem__\u001b[0m\u001b[1;33m(\u001b[0m\u001b[0mself\u001b[0m\u001b[1;33m,\u001b[0m \u001b[0mkey\u001b[0m\u001b[1;33m,\u001b[0m \u001b[0mvalue\u001b[0m\u001b[1;33m)\u001b[0m\u001b[1;33m:\u001b[0m\u001b[1;33m\u001b[0m\u001b[1;33m\u001b[0m\u001b[0m\n",
      "\u001b[1;31mKeyError\u001b[0m: 'in_uv'"
     ]
    }
   ],
   "source": [
    "program1['in_uv']"
   ]
  },
  {
   "cell_type": "code",
   "execution_count": 17,
   "metadata": {},
   "outputs": [
    {
     "ename": "AttributeError",
     "evalue": "'NoneType' object has no attribute 'add_internal'",
     "output_type": "error",
     "traceback": [
      "\u001b[1;31m---------------------------------------------------------------------------\u001b[0m",
      "\u001b[1;31mTypeError\u001b[0m                                 Traceback (most recent call last)",
      "\u001b[1;32md:\\Coding\\pygame-top-down-shooter\\.venv\\lib\\site-packages\\pygame\\sprite.py\u001b[0m in \u001b[0;36madd\u001b[1;34m(self, *sprites)\u001b[0m\n\u001b[0;32m    448\u001b[0m                     \u001b[1;31m# group.\u001b[0m\u001b[1;33m\u001b[0m\u001b[1;33m\u001b[0m\u001b[1;33m\u001b[0m\u001b[0m\n\u001b[1;32m--> 449\u001b[1;33m                     \u001b[0mself\u001b[0m\u001b[1;33m.\u001b[0m\u001b[0madd\u001b[0m\u001b[1;33m(\u001b[0m\u001b[1;33m*\u001b[0m\u001b[0msprite\u001b[0m\u001b[1;33m)\u001b[0m\u001b[1;33m\u001b[0m\u001b[1;33m\u001b[0m\u001b[0m\n\u001b[0m\u001b[0;32m    450\u001b[0m                 \u001b[1;32mexcept\u001b[0m \u001b[1;33m(\u001b[0m\u001b[0mTypeError\u001b[0m\u001b[1;33m,\u001b[0m \u001b[0mAttributeError\u001b[0m\u001b[1;33m)\u001b[0m\u001b[1;33m:\u001b[0m\u001b[1;33m\u001b[0m\u001b[1;33m\u001b[0m\u001b[0m\n",
      "\u001b[1;31mTypeError\u001b[0m: add() argument after * must be an iterable, not NoneType",
      "\nDuring handling of the above exception, another exception occurred:\n",
      "\u001b[1;31mAttributeError\u001b[0m                            Traceback (most recent call last)",
      "\u001b[1;32m~\\AppData\\Local\\Temp\\ipykernel_14020\\235288475.py\u001b[0m in \u001b[0;36m<module>\u001b[1;34m\u001b[0m\n\u001b[0;32m      1\u001b[0m \u001b[1;32mimport\u001b[0m \u001b[0mpygame\u001b[0m\u001b[1;33m\u001b[0m\u001b[1;33m\u001b[0m\u001b[0m\n\u001b[1;32m----> 2\u001b[1;33m \u001b[0mpygame\u001b[0m\u001b[1;33m.\u001b[0m\u001b[0msprite\u001b[0m\u001b[1;33m.\u001b[0m\u001b[0mGroup\u001b[0m\u001b[1;33m(\u001b[0m\u001b[1;32mNone\u001b[0m\u001b[1;33m)\u001b[0m\u001b[1;33m\u001b[0m\u001b[1;33m\u001b[0m\u001b[0m\n\u001b[0m",
      "\u001b[1;32md:\\Coding\\pygame-top-down-shooter\\.venv\\lib\\site-packages\\pygame\\sprite.py\u001b[0m in \u001b[0;36m__init__\u001b[1;34m(self, *sprites)\u001b[0m\n\u001b[0;32m    638\u001b[0m     \u001b[1;32mdef\u001b[0m \u001b[0m__init__\u001b[0m\u001b[1;33m(\u001b[0m\u001b[0mself\u001b[0m\u001b[1;33m,\u001b[0m \u001b[1;33m*\u001b[0m\u001b[0msprites\u001b[0m\u001b[1;33m)\u001b[0m\u001b[1;33m:\u001b[0m\u001b[1;33m\u001b[0m\u001b[1;33m\u001b[0m\u001b[0m\n\u001b[0;32m    639\u001b[0m         \u001b[0mAbstractGroup\u001b[0m\u001b[1;33m.\u001b[0m\u001b[0m__init__\u001b[0m\u001b[1;33m(\u001b[0m\u001b[0mself\u001b[0m\u001b[1;33m)\u001b[0m\u001b[1;33m\u001b[0m\u001b[1;33m\u001b[0m\u001b[0m\n\u001b[1;32m--> 640\u001b[1;33m         \u001b[0mself\u001b[0m\u001b[1;33m.\u001b[0m\u001b[0madd\u001b[0m\u001b[1;33m(\u001b[0m\u001b[1;33m*\u001b[0m\u001b[0msprites\u001b[0m\u001b[1;33m)\u001b[0m\u001b[1;33m\u001b[0m\u001b[1;33m\u001b[0m\u001b[0m\n\u001b[0m\u001b[0;32m    641\u001b[0m \u001b[1;33m\u001b[0m\u001b[0m\n\u001b[0;32m    642\u001b[0m \u001b[1;33m\u001b[0m\u001b[0m\n",
      "\u001b[1;32md:\\Coding\\pygame-top-down-shooter\\.venv\\lib\\site-packages\\pygame\\sprite.py\u001b[0m in \u001b[0;36madd\u001b[1;34m(self, *sprites)\u001b[0m\n\u001b[0;32m    460\u001b[0m                     \u001b[1;32melif\u001b[0m \u001b[1;32mnot\u001b[0m \u001b[0mself\u001b[0m\u001b[1;33m.\u001b[0m\u001b[0mhas_internal\u001b[0m\u001b[1;33m(\u001b[0m\u001b[0msprite\u001b[0m\u001b[1;33m)\u001b[0m\u001b[1;33m:\u001b[0m\u001b[1;33m\u001b[0m\u001b[1;33m\u001b[0m\u001b[0m\n\u001b[0;32m    461\u001b[0m                         \u001b[0mself\u001b[0m\u001b[1;33m.\u001b[0m\u001b[0madd_internal\u001b[0m\u001b[1;33m(\u001b[0m\u001b[0msprite\u001b[0m\u001b[1;33m)\u001b[0m\u001b[1;33m\u001b[0m\u001b[1;33m\u001b[0m\u001b[0m\n\u001b[1;32m--> 462\u001b[1;33m                         \u001b[0msprite\u001b[0m\u001b[1;33m.\u001b[0m\u001b[0madd_internal\u001b[0m\u001b[1;33m(\u001b[0m\u001b[0mself\u001b[0m\u001b[1;33m)\u001b[0m\u001b[1;33m\u001b[0m\u001b[1;33m\u001b[0m\u001b[0m\n\u001b[0m\u001b[0;32m    463\u001b[0m \u001b[1;33m\u001b[0m\u001b[0m\n\u001b[0;32m    464\u001b[0m     \u001b[1;32mdef\u001b[0m \u001b[0mremove\u001b[0m\u001b[1;33m(\u001b[0m\u001b[0mself\u001b[0m\u001b[1;33m,\u001b[0m \u001b[1;33m*\u001b[0m\u001b[0msprites\u001b[0m\u001b[1;33m)\u001b[0m\u001b[1;33m:\u001b[0m\u001b[1;33m\u001b[0m\u001b[1;33m\u001b[0m\u001b[0m\n",
      "\u001b[1;31mAttributeError\u001b[0m: 'NoneType' object has no attribute 'add_internal'"
     ]
    }
   ],
   "source": [
    "import pygame\n",
    "pygame.sprite.Group(None)"
   ]
  },
  {
   "cell_type": "code",
   "execution_count": 55,
   "metadata": {},
   "outputs": [
    {
     "ename": "TypeError",
     "evalue": "__init__ expected at most 1 arguments, got 24",
     "output_type": "error",
     "traceback": [
      "\u001b[1;31m---------------------------------------------------------------------------\u001b[0m",
      "\u001b[1;31mTypeError\u001b[0m                                 Traceback (most recent call last)",
      "\u001b[1;32m~\\AppData\\Local\\Temp\\ipykernel_14020\\1430853995.py\u001b[0m in \u001b[0;36m<module>\u001b[1;34m\u001b[0m\n\u001b[0;32m      1\u001b[0m \u001b[1;32mimport\u001b[0m \u001b[0mctypes\u001b[0m\u001b[1;33m\u001b[0m\u001b[1;33m\u001b[0m\u001b[0m\n\u001b[1;32m----> 2\u001b[1;33m \u001b[1;33m(\u001b[0m\u001b[0mctypes\u001b[0m\u001b[1;33m.\u001b[0m\u001b[0mc_float\u001b[0m\u001b[1;33m)\u001b[0m\u001b[1;33m(\u001b[0m\u001b[1;33m*\u001b[0m\u001b[1;33m[\u001b[0m\u001b[0mi\u001b[0m \u001b[1;32mfor\u001b[0m \u001b[0mi\u001b[0m \u001b[1;32min\u001b[0m \u001b[0mrange\u001b[0m\u001b[1;33m(\u001b[0m\u001b[1;36m24\u001b[0m\u001b[1;33m)\u001b[0m\u001b[1;33m]\u001b[0m\u001b[1;33m)\u001b[0m\u001b[1;33m\u001b[0m\u001b[1;33m\u001b[0m\u001b[0m\n\u001b[0m",
      "\u001b[1;31mTypeError\u001b[0m: __init__ expected at most 1 arguments, got 24"
     ]
    }
   ],
   "source": [
    "import ctypes\n",
    "(ctypes.c_float)(*[i for i in range(24)])"
   ]
  },
  {
   "cell_type": "code",
   "execution_count": 41,
   "metadata": {},
   "outputs": [
    {
     "data": {
      "text/plain": [
       "float"
      ]
     },
     "execution_count": 41,
     "metadata": {},
     "output_type": "execute_result"
    }
   ],
   "source": [
    "from ctypes import sizeof\n",
    "\n",
    "\n",
    "a = (ctypes.c_float * (6*4))(\n",
    "    0.0, 1.0, 0.0, 1.0, \n",
    "    1.0, 1.0, 1.0, 1.0, \n",
    "    1.0, 0.0, 1.0, 0.0,\n",
    "    0.0, 1.0, 0.0, 1.0, \n",
    "    1.0, 0.0, 1.0, 0.0, \n",
    "    0.0, 0.0, 0.0, 0.0\n",
    ")\n",
    "type(a[0])"
   ]
  },
  {
   "cell_type": "code",
   "execution_count": 2,
   "metadata": {},
   "outputs": [
    {
     "name": "stdout",
     "output_type": "stream",
     "text": [
      "WINDOW={ 'aspect_ratio': 1.7777777777777777,\n",
      "  'class': 'moderngl_window.context.pyglet.Window',\n",
      "  'cursor': True,\n",
      "  'fullscreen': False,\n",
      "  'gl_version': (3, 3),\n",
      "  'resizable': True,\n",
      "  'samples': 0,\n",
      "  'size': (1280, 720),\n",
      "  'title': 'ModernGL Window',\n",
      "  'vsync': True}\n",
      "SCREENSHOT_PATH=None\n",
      "PROGRAM_FINDERS=['moderngl_window.finders.program.FilesystemFinder']\n",
      "TEXTURE_FINDERS=['moderngl_window.finders.texture.FilesystemFinder']\n",
      "SCENE_FINDERS=['moderngl_window.finders.scene.FilesystemFinder']\n",
      "DATA_FINDERS=['moderngl_window.finders.data.FilesystemFinder']\n",
      "PROGRAM_DIRS=[ 'd:\\\\Coding\\\\pygame-top-down-shooter\\\\.venv\\\\lib\\\\site-packages\\\\moderngl_window\\\\scene\\\\programs']\n",
      "TEXTURE_DIRS=[]\n",
      "SCENE_DIRS=[]\n",
      "DATA_DIRS=[]\n",
      "PROGRAM_LOADERS=[ 'moderngl_window.loaders.program.single.Loader',\n",
      "  'moderngl_window.loaders.program.separate.Loader']\n",
      "TEXTURE_LOADERS=[ 'moderngl_window.loaders.texture.t2d.Loader',\n",
      "  'moderngl_window.loaders.texture.array.Loader',\n",
      "  'moderngl_window.loaders.texture.cube.Loader']\n",
      "SCENE_LOADERS=[ 'moderngl_window.loaders.scene.gltf2.Loader',\n",
      "  'moderngl_window.loaders.scene.wavefront.Loader',\n",
      "  'moderngl_window.loaders.scene.stl.Loader']\n",
      "DATA_LOADERS=[ 'moderngl_window.loaders.data.binary.Loader',\n",
      "  'moderngl_window.loaders.data.text.Loader',\n",
      "  'moderngl_window.loaders.data.json.Loader']\n"
     ]
    }
   ],
   "source": [
    "from moderngl_window.conf import settings\n",
    "\n",
    "# Mandatory settings values\n",
    "try:\n",
    "    value = settings.WINDOW\n",
    "except KeyError:\n",
    "    raise ValueError(\"This settings value is required\")\n",
    "\n",
    "# Fallback in code\n",
    "value = getattr(settings, 'VALUE', 'default_value')\n",
    "\n",
    "# Pretty printed string representation for easy inspection\n",
    "print(settings)"
   ]
  },
  {
   "cell_type": "code",
   "execution_count": 9,
   "metadata": {},
   "outputs": [
    {
     "ename": "ValueError",
     "evalue": "No active window and context. Call activate_window.",
     "output_type": "error",
     "traceback": [
      "\u001b[1;31m---------------------------------------------------------------------------\u001b[0m",
      "\u001b[1;31mValueError\u001b[0m                                Traceback (most recent call last)",
      "\u001b[1;32m~\\AppData\\Local\\Temp\\ipykernel_12772\\3746016063.py\u001b[0m in \u001b[0;36m<module>\u001b[1;34m\u001b[0m\n\u001b[0;32m      2\u001b[0m \u001b[1;32mimport\u001b[0m \u001b[0mmoderngl_window\u001b[0m\u001b[1;33m\u001b[0m\u001b[1;33m\u001b[0m\u001b[0m\n\u001b[0;32m      3\u001b[0m \u001b[1;32mimport\u001b[0m \u001b[0mmoderngl\u001b[0m\u001b[1;33m\u001b[0m\u001b[1;33m\u001b[0m\u001b[0m\n\u001b[1;32m----> 4\u001b[1;33m \u001b[0mgeometry\u001b[0m\u001b[1;33m.\u001b[0m\u001b[0mquad_fs\u001b[0m\u001b[1;33m(\u001b[0m\u001b[1;33m)\u001b[0m\u001b[1;33m\u001b[0m\u001b[1;33m\u001b[0m\u001b[0m\n\u001b[0m",
      "\u001b[1;32md:\\Coding\\pygame-top-down-shooter\\.venv\\lib\\site-packages\\moderngl_window\\geometry\\quad.py\u001b[0m in \u001b[0;36mquad_fs\u001b[1;34m(attr_names, normals, uvs, name)\u001b[0m\n\u001b[0;32m     19\u001b[0m     \"\"\"\n\u001b[0;32m     20\u001b[0m     return quad_2d(\n\u001b[1;32m---> 21\u001b[1;33m         \u001b[0msize\u001b[0m\u001b[1;33m=\u001b[0m\u001b[1;33m(\u001b[0m\u001b[1;36m2.0\u001b[0m\u001b[1;33m,\u001b[0m \u001b[1;36m2.0\u001b[0m\u001b[1;33m)\u001b[0m\u001b[1;33m,\u001b[0m \u001b[0mnormals\u001b[0m\u001b[1;33m=\u001b[0m\u001b[0mnormals\u001b[0m\u001b[1;33m,\u001b[0m \u001b[0muvs\u001b[0m\u001b[1;33m=\u001b[0m\u001b[0muvs\u001b[0m\u001b[1;33m,\u001b[0m \u001b[0mattr_names\u001b[0m\u001b[1;33m=\u001b[0m\u001b[0mattr_names\u001b[0m\u001b[1;33m,\u001b[0m \u001b[0mname\u001b[0m\u001b[1;33m=\u001b[0m\u001b[0mname\u001b[0m\u001b[1;33m,\u001b[0m\u001b[1;33m\u001b[0m\u001b[1;33m\u001b[0m\u001b[0m\n\u001b[0m\u001b[0;32m     22\u001b[0m     )\n\u001b[0;32m     23\u001b[0m \u001b[1;33m\u001b[0m\u001b[0m\n",
      "\u001b[1;32md:\\Coding\\pygame-top-down-shooter\\.venv\\lib\\site-packages\\moderngl_window\\geometry\\quad.py\u001b[0m in \u001b[0;36mquad_2d\u001b[1;34m(size, pos, normals, uvs, attr_names, name)\u001b[0m\n\u001b[0;32m     77\u001b[0m \u001b[1;33m\u001b[0m\u001b[0m\n\u001b[0;32m     78\u001b[0m     \u001b[0mvao\u001b[0m \u001b[1;33m=\u001b[0m \u001b[0mVAO\u001b[0m\u001b[1;33m(\u001b[0m\u001b[0mname\u001b[0m \u001b[1;32mor\u001b[0m \u001b[1;34m\"geometry:quad\"\u001b[0m\u001b[1;33m,\u001b[0m \u001b[0mmode\u001b[0m\u001b[1;33m=\u001b[0m\u001b[0mmoderngl\u001b[0m\u001b[1;33m.\u001b[0m\u001b[0mTRIANGLES\u001b[0m\u001b[1;33m)\u001b[0m\u001b[1;33m\u001b[0m\u001b[1;33m\u001b[0m\u001b[0m\n\u001b[1;32m---> 79\u001b[1;33m     \u001b[0mvao\u001b[0m\u001b[1;33m.\u001b[0m\u001b[0mbuffer\u001b[0m\u001b[1;33m(\u001b[0m\u001b[0mpos_data\u001b[0m\u001b[1;33m,\u001b[0m \u001b[1;34m\"3f\"\u001b[0m\u001b[1;33m,\u001b[0m \u001b[1;33m[\u001b[0m\u001b[0mattr_names\u001b[0m\u001b[1;33m.\u001b[0m\u001b[0mPOSITION\u001b[0m\u001b[1;33m]\u001b[0m\u001b[1;33m)\u001b[0m\u001b[1;33m\u001b[0m\u001b[1;33m\u001b[0m\u001b[0m\n\u001b[0m\u001b[0;32m     80\u001b[0m     \u001b[1;32mif\u001b[0m \u001b[0mnormals\u001b[0m\u001b[1;33m:\u001b[0m\u001b[1;33m\u001b[0m\u001b[1;33m\u001b[0m\u001b[0m\n\u001b[0;32m     81\u001b[0m         \u001b[0mvao\u001b[0m\u001b[1;33m.\u001b[0m\u001b[0mbuffer\u001b[0m\u001b[1;33m(\u001b[0m\u001b[0mnormal_data\u001b[0m\u001b[1;33m,\u001b[0m \u001b[1;34m\"3f\"\u001b[0m\u001b[1;33m,\u001b[0m \u001b[1;33m[\u001b[0m\u001b[0mattr_names\u001b[0m\u001b[1;33m.\u001b[0m\u001b[0mNORMAL\u001b[0m\u001b[1;33m]\u001b[0m\u001b[1;33m)\u001b[0m\u001b[1;33m\u001b[0m\u001b[1;33m\u001b[0m\u001b[0m\n",
      "\u001b[1;32md:\\Coding\\pygame-top-down-shooter\\.venv\\lib\\site-packages\\moderngl_window\\opengl\\vao.py\u001b[0m in \u001b[0;36mbuffer\u001b[1;34m(self, buffer, buffer_format, attribute_names)\u001b[0m\n\u001b[0;32m    252\u001b[0m \u001b[1;33m\u001b[0m\u001b[0m\n\u001b[0;32m    253\u001b[0m         \u001b[1;32mif\u001b[0m \u001b[0misinstance\u001b[0m\u001b[1;33m(\u001b[0m\u001b[0mbuffer\u001b[0m\u001b[1;33m,\u001b[0m \u001b[0mnumpy\u001b[0m\u001b[1;33m.\u001b[0m\u001b[0mndarray\u001b[0m\u001b[1;33m)\u001b[0m\u001b[1;33m:\u001b[0m\u001b[1;33m\u001b[0m\u001b[1;33m\u001b[0m\u001b[0m\n\u001b[1;32m--> 254\u001b[1;33m             \u001b[0mbuffer\u001b[0m \u001b[1;33m=\u001b[0m \u001b[0mself\u001b[0m\u001b[1;33m.\u001b[0m\u001b[0mctx\u001b[0m\u001b[1;33m.\u001b[0m\u001b[0mbuffer\u001b[0m\u001b[1;33m(\u001b[0m\u001b[0mbuffer\u001b[0m\u001b[1;33m.\u001b[0m\u001b[0mtobytes\u001b[0m\u001b[1;33m(\u001b[0m\u001b[1;33m)\u001b[0m\u001b[1;33m)\u001b[0m\u001b[1;33m\u001b[0m\u001b[1;33m\u001b[0m\u001b[0m\n\u001b[0m\u001b[0;32m    255\u001b[0m \u001b[1;33m\u001b[0m\u001b[0m\n\u001b[0;32m    256\u001b[0m         \u001b[1;32mif\u001b[0m \u001b[0misinstance\u001b[0m\u001b[1;33m(\u001b[0m\u001b[0mbuffer\u001b[0m\u001b[1;33m,\u001b[0m \u001b[0mbytes\u001b[0m\u001b[1;33m)\u001b[0m\u001b[1;33m:\u001b[0m\u001b[1;33m\u001b[0m\u001b[1;33m\u001b[0m\u001b[0m\n",
      "\u001b[1;32md:\\Coding\\pygame-top-down-shooter\\.venv\\lib\\site-packages\\moderngl_window\\opengl\\vao.py\u001b[0m in \u001b[0;36mctx\u001b[1;34m(self)\u001b[0m\n\u001b[0;32m    152\u001b[0m     \u001b[1;32mdef\u001b[0m \u001b[0mctx\u001b[0m\u001b[1;33m(\u001b[0m\u001b[0mself\u001b[0m\u001b[1;33m)\u001b[0m\u001b[1;33m:\u001b[0m\u001b[1;33m\u001b[0m\u001b[1;33m\u001b[0m\u001b[0m\n\u001b[0;32m    153\u001b[0m         \u001b[1;34m\"\"\"moderngl.Context: The actite moderngl context\"\"\"\u001b[0m\u001b[1;33m\u001b[0m\u001b[1;33m\u001b[0m\u001b[0m\n\u001b[1;32m--> 154\u001b[1;33m         \u001b[1;32mreturn\u001b[0m \u001b[0mmglw\u001b[0m\u001b[1;33m.\u001b[0m\u001b[0mctx\u001b[0m\u001b[1;33m(\u001b[0m\u001b[1;33m)\u001b[0m\u001b[1;33m\u001b[0m\u001b[1;33m\u001b[0m\u001b[0m\n\u001b[0m\u001b[0;32m    155\u001b[0m \u001b[1;33m\u001b[0m\u001b[0m\n\u001b[0;32m    156\u001b[0m     def render(\n",
      "\u001b[1;32md:\\Coding\\pygame-top-down-shooter\\.venv\\lib\\site-packages\\moderngl_window\\__init__.py\u001b[0m in \u001b[0;36mctx\u001b[1;34m()\u001b[0m\n\u001b[0;32m     94\u001b[0m         \u001b[1;32mreturn\u001b[0m \u001b[0mContextRefs\u001b[0m\u001b[1;33m.\u001b[0m\u001b[0mCONTEXT\u001b[0m\u001b[1;33m\u001b[0m\u001b[1;33m\u001b[0m\u001b[0m\n\u001b[0;32m     95\u001b[0m \u001b[1;33m\u001b[0m\u001b[0m\n\u001b[1;32m---> 96\u001b[1;33m     \u001b[1;32mraise\u001b[0m \u001b[0mValueError\u001b[0m\u001b[1;33m(\u001b[0m\u001b[1;34m\"No active window and context. Call activate_window.\"\u001b[0m\u001b[1;33m)\u001b[0m\u001b[1;33m\u001b[0m\u001b[1;33m\u001b[0m\u001b[0m\n\u001b[0m\u001b[0;32m     97\u001b[0m \u001b[1;33m\u001b[0m\u001b[0m\n\u001b[0;32m     98\u001b[0m \u001b[1;33m\u001b[0m\u001b[0m\n",
      "\u001b[1;31mValueError\u001b[0m: No active window and context. Call activate_window."
     ]
    }
   ],
   "source": [
    "import math\n",
    "from pathlib import Path\n",
    "import pygame\n",
    "import moderngl\n",
    "import moderngl_window\n",
    "from moderngl_window import geometry\n",
    "\n",
    "\n",
    "class Pygame(moderngl_window.WindowConfig):\n",
    "    \"\"\"\n",
    "    Example using pygame with moderngl.\n",
    "    Needs to run with ``--window pygame2`` option.\n",
    "    \"\"\"\n",
    "    title = \"Pygame\"\n",
    "    window_size = 1280, 720\n",
    "    resource_dir = (Path(__file__) / '..').absolute()\n",
    "\n",
    "    def __init__(self, **kwargs):\n",
    "        super().__init__(**kwargs)\n",
    "\n",
    "        self.quad_fs = geometry.quad_fs()\n",
    "\n",
    "    def render(self, time, frametime):\n",
    "        self.render_pygame(time)\n",
    "\n",
    "        self.ctx.clear(\n",
    "            (math.sin(time) + 1.0) / 2,\n",
    "            (math.sin(time + 2) + 1.0) / 2,\n",
    "            (math.sin(time + 3) + 1.0) / 2,\n",
    "        )\n",
    "        self.quad_texture.use()\n",
    "        self.texture_program['texture0'].value = 0\n",
    "        self.quad_fs.render(self.texture_program)\n",
    "    \n",
    "        self.ctx.enable(moderngl.BLEND)\n",
    "        self.pg_texture.use()\n",
    "        self.quad_fs.render(self.texture_program)\n",
    "        self.ctx.disable(moderngl.BLEND)\n",
    "\n",
    "    def render_pygame(self, time):\n",
    "        \"\"\"Render to offscreen surface and copy result into moderngl texture\"\"\"\n",
    "        self.pg_screen.fill((0, 0, 0, 0))  # Make sure we clear with alpha 0!\n",
    "        N = 1500\n",
    "        for i in range(N):\n",
    "            time_offset = 6.28 / N * i\n",
    "            self.pg_screen.blit(self.image, \n",
    "                pygame.rect.Rect(math.sin(time + time_offset) * 55 + self.pg_res[0] // 2,\n",
    "                    math.cos(time + time_offset) * 55 + self.pg_res[1] // 2, 30, 30))\n",
    "            # pygame.draw.circle(\n",
    "            #     self.pg_screen,\n",
    "            #     ((i * 50) % 255, (i * 100) % 255, (i * 20) % 255),\n",
    "            #     (\n",
    "            #         math.sin(time + time_offset) * 55 + self.pg_res[0] // 2,\n",
    "            #         math.cos(time + time_offset) * 55 + self.pg_res[1] // 2),\n",
    "            #     math.sin(time) * 4 + 15,\n",
    "            # )\n",
    "\n",
    "        # Get the buffer view of the Surface's pixels\n",
    "        # and write this data into the texture\n",
    "        texture_data = self.pg_screen.get_view('1')\n",
    "        self.pg_texture.write(texture_data)\n",
    "\n",
    "\n",
    "if __name__ == '__main__':\n",
    "    moderngl_window.run_window_config(Pygame, args=('--vsync', 'True', '--window', 'pygame2'), )"
   ]
  },
  {
   "cell_type": "code",
   "execution_count": 1,
   "metadata": {},
   "outputs": [
    {
     "data": {
      "text/plain": [
       "<__main__.A at 0x1695179b288>"
      ]
     },
     "execution_count": 1,
     "metadata": {},
     "output_type": "execute_result"
    }
   ],
   "source": [
    "class A:\n",
    "    def __init__(self):\n",
    "        self.a = 3\n",
    "        global b\n",
    "        b = 3\n",
    "A()"
   ]
  },
  {
   "cell_type": "code",
   "execution_count": 2,
   "metadata": {},
   "outputs": [
    {
     "name": "stdout",
     "output_type": "stream",
     "text": [
      "3\n"
     ]
    }
   ],
   "source": [
    "print(b)"
   ]
  }
 ],
 "metadata": {
  "kernelspec": {
   "display_name": "Python 3.7.9 ('.venv': poetry)",
   "language": "python",
   "name": "python3"
  },
  "language_info": {
   "codemirror_mode": {
    "name": "ipython",
    "version": 3
   },
   "file_extension": ".py",
   "mimetype": "text/x-python",
   "name": "python",
   "nbconvert_exporter": "python",
   "pygments_lexer": "ipython3",
   "version": "3.7.9"
  },
  "orig_nbformat": 4,
  "vscode": {
   "interpreter": {
    "hash": "7aa065f75de1d0f3bc00e6ee6c864e8e1a445693bdccd86d8bc3e1cd0d431d1f"
   }
  }
 },
 "nbformat": 4,
 "nbformat_minor": 2
}
